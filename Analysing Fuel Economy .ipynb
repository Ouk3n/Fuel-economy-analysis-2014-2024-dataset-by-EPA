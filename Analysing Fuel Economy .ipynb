{
 "cells": [
  {
   "cell_type": "code",
   "execution_count": 1,
   "id": "1fa2295e-3330-432c-9fb8-a03ae2d85653",
   "metadata": {},
   "outputs": [],
   "source": [
    "import numpy as np\n",
    "import pandas as pd\n",
    "import matplotlib.pyplot as plt\n",
    "import seaborn as sns\n",
    "%matplotlib inline"
   ]
  },
  {
   "cell_type": "code",
   "execution_count": 2,
   "id": "7fc6f2da-0bbf-4dfa-96f1-bdd2fc4a7904",
   "metadata": {},
   "outputs": [],
   "source": [
    "df_14=pd.read_excel('downloads/all_alpha_14.xlsx',engine='openpyxl')\n",
    "df_24=pd.read_excel('downloads/all_alpha_24.xlsx',engine='openpyxl')"
   ]
  },
  {
   "cell_type": "code",
   "execution_count": 3,
   "id": "c61756f0-8019-43c2-8358-7c29612a81da",
   "metadata": {},
   "outputs": [
    {
     "data": {
      "text/html": [
       "<div>\n",
       "<style scoped>\n",
       "    .dataframe tbody tr th:only-of-type {\n",
       "        vertical-align: middle;\n",
       "    }\n",
       "\n",
       "    .dataframe tbody tr th {\n",
       "        vertical-align: top;\n",
       "    }\n",
       "\n",
       "    .dataframe thead th {\n",
       "        text-align: right;\n",
       "    }\n",
       "</style>\n",
       "<table border=\"1\" class=\"dataframe\">\n",
       "  <thead>\n",
       "    <tr style=\"text-align: right;\">\n",
       "      <th></th>\n",
       "      <th>Model</th>\n",
       "      <th>Displ</th>\n",
       "      <th>Cyl</th>\n",
       "      <th>Trans</th>\n",
       "      <th>Drive</th>\n",
       "      <th>Fuel</th>\n",
       "      <th>Sales Area</th>\n",
       "      <th>Stnd</th>\n",
       "      <th>Stnd Description</th>\n",
       "      <th>Underhood ID</th>\n",
       "      <th>Veh Class</th>\n",
       "      <th>Air Pollution Score</th>\n",
       "      <th>City MPG</th>\n",
       "      <th>Hwy MPG</th>\n",
       "      <th>Cmb MPG</th>\n",
       "      <th>Greenhouse Gas Score</th>\n",
       "      <th>SmartWay</th>\n",
       "      <th>Comb CO2</th>\n",
       "    </tr>\n",
       "  </thead>\n",
       "  <tbody>\n",
       "    <tr>\n",
       "      <th>0</th>\n",
       "      <td>ACURA ILX</td>\n",
       "      <td>1.5</td>\n",
       "      <td>4.0</td>\n",
       "      <td>SCV-7</td>\n",
       "      <td>2WD</td>\n",
       "      <td>Gasoline</td>\n",
       "      <td>FA</td>\n",
       "      <td>B2</td>\n",
       "      <td>Federal Tier 2 Bin 2</td>\n",
       "      <td>EHNXV01.58D2</td>\n",
       "      <td>small car</td>\n",
       "      <td>9</td>\n",
       "      <td>39</td>\n",
       "      <td>38</td>\n",
       "      <td>38</td>\n",
       "      <td>9</td>\n",
       "      <td>Yes</td>\n",
       "      <td>228</td>\n",
       "    </tr>\n",
       "    <tr>\n",
       "      <th>1</th>\n",
       "      <td>ACURA ILX</td>\n",
       "      <td>1.5</td>\n",
       "      <td>4.0</td>\n",
       "      <td>SCV-7</td>\n",
       "      <td>2WD</td>\n",
       "      <td>Gasoline</td>\n",
       "      <td>CA</td>\n",
       "      <td>PZEV</td>\n",
       "      <td>California PZEV</td>\n",
       "      <td>EHNXV01.58D2</td>\n",
       "      <td>small car</td>\n",
       "      <td>9</td>\n",
       "      <td>39</td>\n",
       "      <td>38</td>\n",
       "      <td>38</td>\n",
       "      <td>9</td>\n",
       "      <td>Yes</td>\n",
       "      <td>228</td>\n",
       "    </tr>\n",
       "    <tr>\n",
       "      <th>2</th>\n",
       "      <td>ACURA ILX</td>\n",
       "      <td>2.0</td>\n",
       "      <td>4.0</td>\n",
       "      <td>SemiAuto-5</td>\n",
       "      <td>2WD</td>\n",
       "      <td>Gasoline</td>\n",
       "      <td>FA</td>\n",
       "      <td>B5</td>\n",
       "      <td>Federal Tier 2 Bin 5</td>\n",
       "      <td>EHNXV02.0EB3</td>\n",
       "      <td>small car</td>\n",
       "      <td>5</td>\n",
       "      <td>24</td>\n",
       "      <td>35</td>\n",
       "      <td>28</td>\n",
       "      <td>7</td>\n",
       "      <td>No</td>\n",
       "      <td>318</td>\n",
       "    </tr>\n",
       "    <tr>\n",
       "      <th>3</th>\n",
       "      <td>ACURA ILX</td>\n",
       "      <td>2.0</td>\n",
       "      <td>4.0</td>\n",
       "      <td>SemiAuto-5</td>\n",
       "      <td>2WD</td>\n",
       "      <td>Gasoline</td>\n",
       "      <td>CA</td>\n",
       "      <td>U2</td>\n",
       "      <td>California LEV-II ULEV</td>\n",
       "      <td>EHNXV02.0EB3</td>\n",
       "      <td>small car</td>\n",
       "      <td>6</td>\n",
       "      <td>24</td>\n",
       "      <td>35</td>\n",
       "      <td>28</td>\n",
       "      <td>7</td>\n",
       "      <td>Yes</td>\n",
       "      <td>318</td>\n",
       "    </tr>\n",
       "    <tr>\n",
       "      <th>4</th>\n",
       "      <td>ACURA ILX</td>\n",
       "      <td>2.4</td>\n",
       "      <td>4.0</td>\n",
       "      <td>Man-6</td>\n",
       "      <td>2WD</td>\n",
       "      <td>Gasoline</td>\n",
       "      <td>FA</td>\n",
       "      <td>B5</td>\n",
       "      <td>Federal Tier 2 Bin 5</td>\n",
       "      <td>EHNXV02.4RB3</td>\n",
       "      <td>small car</td>\n",
       "      <td>5</td>\n",
       "      <td>22</td>\n",
       "      <td>31</td>\n",
       "      <td>25</td>\n",
       "      <td>6</td>\n",
       "      <td>No</td>\n",
       "      <td>361</td>\n",
       "    </tr>\n",
       "  </tbody>\n",
       "</table>\n",
       "</div>"
      ],
      "text/plain": [
       "       Model  Displ  Cyl       Trans Drive      Fuel Sales Area  Stnd  \\\n",
       "0  ACURA ILX    1.5  4.0       SCV-7   2WD  Gasoline         FA    B2   \n",
       "1  ACURA ILX    1.5  4.0       SCV-7   2WD  Gasoline         CA  PZEV   \n",
       "2  ACURA ILX    2.0  4.0  SemiAuto-5   2WD  Gasoline         FA    B5   \n",
       "3  ACURA ILX    2.0  4.0  SemiAuto-5   2WD  Gasoline         CA    U2   \n",
       "4  ACURA ILX    2.4  4.0       Man-6   2WD  Gasoline         FA    B5   \n",
       "\n",
       "         Stnd Description  Underhood ID  Veh Class Air Pollution Score  \\\n",
       "0    Federal Tier 2 Bin 2  EHNXV01.58D2  small car                   9   \n",
       "1         California PZEV  EHNXV01.58D2  small car                   9   \n",
       "2    Federal Tier 2 Bin 5  EHNXV02.0EB3  small car                   5   \n",
       "3  California LEV-II ULEV  EHNXV02.0EB3  small car                   6   \n",
       "4    Federal Tier 2 Bin 5  EHNXV02.4RB3  small car                   5   \n",
       "\n",
       "  City MPG Hwy MPG Cmb MPG Greenhouse Gas Score SmartWay Comb CO2  \n",
       "0       39      38      38                    9      Yes      228  \n",
       "1       39      38      38                    9      Yes      228  \n",
       "2       24      35      28                    7       No      318  \n",
       "3       24      35      28                    7      Yes      318  \n",
       "4       22      31      25                    6       No      361  "
      ]
     },
     "execution_count": 3,
     "metadata": {},
     "output_type": "execute_result"
    }
   ],
   "source": [
    "df_14.head()"
   ]
  },
  {
   "cell_type": "code",
   "execution_count": 4,
   "id": "c6af26fb-3f07-4462-b291-9d87be52e990",
   "metadata": {},
   "outputs": [
    {
     "data": {
      "text/html": [
       "<div>\n",
       "<style scoped>\n",
       "    .dataframe tbody tr th:only-of-type {\n",
       "        vertical-align: middle;\n",
       "    }\n",
       "\n",
       "    .dataframe tbody tr th {\n",
       "        vertical-align: top;\n",
       "    }\n",
       "\n",
       "    .dataframe thead th {\n",
       "        text-align: right;\n",
       "    }\n",
       "</style>\n",
       "<table border=\"1\" class=\"dataframe\">\n",
       "  <thead>\n",
       "    <tr style=\"text-align: right;\">\n",
       "      <th></th>\n",
       "      <th>Model</th>\n",
       "      <th>Displ</th>\n",
       "      <th>Cyl</th>\n",
       "      <th>Trans</th>\n",
       "      <th>Drive</th>\n",
       "      <th>Fuel</th>\n",
       "      <th>Cert Region</th>\n",
       "      <th>Stnd</th>\n",
       "      <th>Stnd Description</th>\n",
       "      <th>Underhood ID</th>\n",
       "      <th>Veh Class</th>\n",
       "      <th>Air Pollution Score</th>\n",
       "      <th>City MPG</th>\n",
       "      <th>Hwy MPG</th>\n",
       "      <th>Cmb MPG</th>\n",
       "      <th>Greenhouse Gas Score</th>\n",
       "      <th>SmartWay</th>\n",
       "      <th>Comb CO2</th>\n",
       "    </tr>\n",
       "  </thead>\n",
       "  <tbody>\n",
       "    <tr>\n",
       "      <th>0</th>\n",
       "      <td>ACURA Integra</td>\n",
       "      <td>1.5</td>\n",
       "      <td>4.0</td>\n",
       "      <td>SCV-7</td>\n",
       "      <td>2WD</td>\n",
       "      <td>Gasoline</td>\n",
       "      <td>CA</td>\n",
       "      <td>L3SULEV30</td>\n",
       "      <td>California LEV-III SULEV30</td>\n",
       "      <td>RHNXV01.54EC</td>\n",
       "      <td>large car</td>\n",
       "      <td>7</td>\n",
       "      <td>30</td>\n",
       "      <td>37</td>\n",
       "      <td>33</td>\n",
       "      <td>6</td>\n",
       "      <td>No</td>\n",
       "      <td>269</td>\n",
       "    </tr>\n",
       "    <tr>\n",
       "      <th>1</th>\n",
       "      <td>ACURA Integra</td>\n",
       "      <td>1.5</td>\n",
       "      <td>4.0</td>\n",
       "      <td>SCV-7</td>\n",
       "      <td>2WD</td>\n",
       "      <td>Gasoline</td>\n",
       "      <td>FA</td>\n",
       "      <td>T3B30</td>\n",
       "      <td>Federal Tier 3 Bin 30</td>\n",
       "      <td>RHNXV01.54EC</td>\n",
       "      <td>large car</td>\n",
       "      <td>7</td>\n",
       "      <td>30</td>\n",
       "      <td>37</td>\n",
       "      <td>33</td>\n",
       "      <td>6</td>\n",
       "      <td>No</td>\n",
       "      <td>269</td>\n",
       "    </tr>\n",
       "    <tr>\n",
       "      <th>2</th>\n",
       "      <td>ACURA Integra</td>\n",
       "      <td>2.0</td>\n",
       "      <td>4.0</td>\n",
       "      <td>Man-6</td>\n",
       "      <td>2WD</td>\n",
       "      <td>Gasoline</td>\n",
       "      <td>CA</td>\n",
       "      <td>L3ULEV50</td>\n",
       "      <td>California LEV-III ULEV50</td>\n",
       "      <td>RHNXV02.0TDC</td>\n",
       "      <td>large car</td>\n",
       "      <td>6</td>\n",
       "      <td>21</td>\n",
       "      <td>28</td>\n",
       "      <td>24</td>\n",
       "      <td>5</td>\n",
       "      <td>No</td>\n",
       "      <td>371</td>\n",
       "    </tr>\n",
       "    <tr>\n",
       "      <th>3</th>\n",
       "      <td>ACURA Integra</td>\n",
       "      <td>2.0</td>\n",
       "      <td>4.0</td>\n",
       "      <td>Man-6</td>\n",
       "      <td>2WD</td>\n",
       "      <td>Gasoline</td>\n",
       "      <td>FA</td>\n",
       "      <td>T3B50</td>\n",
       "      <td>Federal Tier 3 Bin 50</td>\n",
       "      <td>RHNXV02.0TDC</td>\n",
       "      <td>large car</td>\n",
       "      <td>6</td>\n",
       "      <td>21</td>\n",
       "      <td>28</td>\n",
       "      <td>24</td>\n",
       "      <td>5</td>\n",
       "      <td>No</td>\n",
       "      <td>371</td>\n",
       "    </tr>\n",
       "    <tr>\n",
       "      <th>4</th>\n",
       "      <td>ACURA Integra A-Spec</td>\n",
       "      <td>1.5</td>\n",
       "      <td>4.0</td>\n",
       "      <td>Man-6</td>\n",
       "      <td>2WD</td>\n",
       "      <td>Gasoline</td>\n",
       "      <td>CA</td>\n",
       "      <td>L3ULEV50</td>\n",
       "      <td>California LEV-III ULEV50</td>\n",
       "      <td>RHNXV01.55DC</td>\n",
       "      <td>large car</td>\n",
       "      <td>6</td>\n",
       "      <td>26</td>\n",
       "      <td>36</td>\n",
       "      <td>30</td>\n",
       "      <td>6</td>\n",
       "      <td>No</td>\n",
       "      <td>293</td>\n",
       "    </tr>\n",
       "  </tbody>\n",
       "</table>\n",
       "</div>"
      ],
      "text/plain": [
       "                  Model  Displ  Cyl  Trans Drive      Fuel Cert Region  \\\n",
       "0         ACURA Integra    1.5  4.0  SCV-7   2WD  Gasoline          CA   \n",
       "1         ACURA Integra    1.5  4.0  SCV-7   2WD  Gasoline          FA   \n",
       "2         ACURA Integra    2.0  4.0  Man-6   2WD  Gasoline          CA   \n",
       "3         ACURA Integra    2.0  4.0  Man-6   2WD  Gasoline          FA   \n",
       "4  ACURA Integra A-Spec    1.5  4.0  Man-6   2WD  Gasoline          CA   \n",
       "\n",
       "        Stnd            Stnd Description  Underhood ID  Veh Class  \\\n",
       "0  L3SULEV30  California LEV-III SULEV30  RHNXV01.54EC  large car   \n",
       "1      T3B30       Federal Tier 3 Bin 30  RHNXV01.54EC  large car   \n",
       "2   L3ULEV50   California LEV-III ULEV50  RHNXV02.0TDC  large car   \n",
       "3      T3B50       Federal Tier 3 Bin 50  RHNXV02.0TDC  large car   \n",
       "4   L3ULEV50   California LEV-III ULEV50  RHNXV01.55DC  large car   \n",
       "\n",
       "   Air Pollution Score City MPG Hwy MPG Cmb MPG  Greenhouse Gas Score  \\\n",
       "0                    7       30      37      33                     6   \n",
       "1                    7       30      37      33                     6   \n",
       "2                    6       21      28      24                     5   \n",
       "3                    6       21      28      24                     5   \n",
       "4                    6       26      36      30                     6   \n",
       "\n",
       "  SmartWay Comb CO2  \n",
       "0       No      269  \n",
       "1       No      269  \n",
       "2       No      371  \n",
       "3       No      371  \n",
       "4       No      293  "
      ]
     },
     "execution_count": 4,
     "metadata": {},
     "output_type": "execute_result"
    }
   ],
   "source": [
    "df_24.head()"
   ]
  },
  {
   "cell_type": "code",
   "execution_count": 5,
   "id": "675822d6-28d6-4508-8ae3-6b188b1e6bf6",
   "metadata": {},
   "outputs": [
    {
     "data": {
      "text/plain": [
       "((2517, 18), (2448, 18))"
      ]
     },
     "execution_count": 5,
     "metadata": {},
     "output_type": "execute_result"
    }
   ],
   "source": [
    "df_14.shape,df_24.shape"
   ]
  },
  {
   "cell_type": "code",
   "execution_count": 6,
   "id": "73360fb2-2ef6-4348-ad75-c7d8c8ee7917",
   "metadata": {},
   "outputs": [],
   "source": [
    "#lets rename all columns by removing spaces and replacing it with '_'\n",
    "df_14.rename(columns=lambda x:x.strip().replace(' ','_'),inplace=True)\n",
    "df_24.rename(columns=lambda x:x.strip().replace(' ','_'),inplace=True)"
   ]
  },
  {
   "cell_type": "code",
   "execution_count": 28,
   "id": "5b82e532-9458-4f97-807a-e1a3fc973e3c",
   "metadata": {},
   "outputs": [
    {
     "data": {
      "text/plain": [
       "array([ True,  True,  True,  True,  True,  True, False,  True,  True,\n",
       "        True,  True,  True,  True,  True,  True,  True,  True,  True])"
      ]
     },
     "execution_count": 28,
     "metadata": {},
     "output_type": "execute_result"
    }
   ],
   "source": [
    "#Lets see if the two Datasets have same columns\n",
    "df_14.columns==df_24.columns"
   ]
  },
  {
   "cell_type": "code",
   "execution_count": 50,
   "id": "13ea2802-b066-415a-9018-6061a8071e3b",
   "metadata": {},
   "outputs": [],
   "source": [
    "#so the columns name sales area and cert region are different but the data represented by both columns are similar !\n",
    "df_24.rename(columns={'Cert_Region':'Sales_Area'},inplace=True)"
   ]
  },
  {
   "cell_type": "code",
   "execution_count": 51,
   "id": "8ca18780-0d3f-46dd-a2a8-529918185739",
   "metadata": {},
   "outputs": [
    {
     "data": {
      "text/plain": [
       "array([ True,  True,  True,  True,  True,  True,  True,  True,  True,\n",
       "        True,  True,  True,  True,  True,  True,  True,  True,  True])"
      ]
     },
     "execution_count": 51,
     "metadata": {},
     "output_type": "execute_result"
    }
   ],
   "source": [
    "#Now lets recheck columns\n",
    "df_14.columns==df_24.columns"
   ]
  },
  {
   "cell_type": "code",
   "execution_count": 58,
   "id": "2e4389d8-b60f-44c2-be6b-9c2d84200e3b",
   "metadata": {},
   "outputs": [
    {
     "data": {
      "text/plain": [
       "(22, 0)"
      ]
     },
     "execution_count": 58,
     "metadata": {},
     "output_type": "execute_result"
    }
   ],
   "source": [
    "df_14.duplicated().sum(),df_24.duplicated().sum()"
   ]
  },
  {
   "cell_type": "code",
   "execution_count": 60,
   "id": "6743c9ca-9327-4b67-988b-ab570ac08224",
   "metadata": {},
   "outputs": [
    {
     "name": "stdout",
     "output_type": "stream",
     "text": [
      "<class 'pandas.core.frame.DataFrame'>\n",
      "RangeIndex: 2517 entries, 0 to 2516\n",
      "Data columns (total 18 columns):\n",
      " #   Column                Non-Null Count  Dtype  \n",
      "---  ------                --------------  -----  \n",
      " 0   Model                 2517 non-null   object \n",
      " 1   Displ                 2487 non-null   float64\n",
      " 2   Cyl                   2487 non-null   float64\n",
      " 3   Trans                 2517 non-null   object \n",
      " 4   Drive                 2517 non-null   object \n",
      " 5   Fuel                  2517 non-null   object \n",
      " 6   Sales_Area            2517 non-null   object \n",
      " 7   Stnd                  2517 non-null   object \n",
      " 8   Stnd_Description      2517 non-null   object \n",
      " 9   Underhood_ID          2517 non-null   object \n",
      " 10  Veh_Class             2517 non-null   object \n",
      " 11  Air_Pollution_Score   2517 non-null   object \n",
      " 12  City_MPG              2320 non-null   object \n",
      " 13  Hwy_MPG               2320 non-null   object \n",
      " 14  Cmb_MPG               2320 non-null   object \n",
      " 15  Greenhouse_Gas_Score  2320 non-null   object \n",
      " 16  SmartWay              2517 non-null   object \n",
      " 17  Comb_CO2              2320 non-null   object \n",
      "dtypes: float64(2), object(16)\n",
      "memory usage: 354.1+ KB\n"
     ]
    }
   ],
   "source": [
    "df_14.info()"
   ]
  },
  {
   "cell_type": "code",
   "execution_count": 61,
   "id": "088314b4-fecf-4fe4-b15e-be9426f3479d",
   "metadata": {},
   "outputs": [
    {
     "name": "stdout",
     "output_type": "stream",
     "text": [
      "<class 'pandas.core.frame.DataFrame'>\n",
      "Index: 2448 entries, 0 to 2447\n",
      "Data columns (total 18 columns):\n",
      " #   Column                Non-Null Count  Dtype  \n",
      "---  ------                --------------  -----  \n",
      " 0   Model                 2448 non-null   object \n",
      " 1   Displ                 1995 non-null   float64\n",
      " 2   Cyl                   1995 non-null   float64\n",
      " 3   Trans                 2448 non-null   object \n",
      " 4   Drive                 2448 non-null   object \n",
      " 5   Fuel                  2448 non-null   object \n",
      " 6   Sales_Area            2448 non-null   object \n",
      " 7   Stnd                  2448 non-null   object \n",
      " 8   Stnd_Description      2448 non-null   object \n",
      " 9   Underhood_ID          2448 non-null   object \n",
      " 10  Veh_Class             2448 non-null   object \n",
      " 11  Air_Pollution_Score   2448 non-null   int64  \n",
      " 12  City_MPG              2448 non-null   object \n",
      " 13  Hwy_MPG               2448 non-null   object \n",
      " 14  Cmb_MPG               2448 non-null   object \n",
      " 15  Greenhouse_Gas_Score  2448 non-null   int64  \n",
      " 16  SmartWay              2448 non-null   object \n",
      " 17  Comb_CO2              2448 non-null   object \n",
      "dtypes: float64(2), int64(2), object(14)\n",
      "memory usage: 363.4+ KB\n"
     ]
    }
   ],
   "source": [
    "df_24.info()"
   ]
  },
  {
   "cell_type": "code",
   "execution_count": 64,
   "id": "e1809009-0762-4951-84d4-76f284cdafdc",
   "metadata": {},
   "outputs": [
    {
     "data": {
      "text/plain": [
       "Model                     0\n",
       "Displ                    30\n",
       "Cyl                      30\n",
       "Trans                     0\n",
       "Drive                     0\n",
       "Fuel                      0\n",
       "Sales_Area                0\n",
       "Stnd                      0\n",
       "Stnd_Description          0\n",
       "Underhood_ID              0\n",
       "Veh_Class                 0\n",
       "Air_Pollution_Score       0\n",
       "City_MPG                197\n",
       "Hwy_MPG                 197\n",
       "Cmb_MPG                 197\n",
       "Greenhouse_Gas_Score    197\n",
       "SmartWay                  0\n",
       "Comb_CO2                197\n",
       "dtype: int64"
      ]
     },
     "execution_count": 64,
     "metadata": {},
     "output_type": "execute_result"
    }
   ],
   "source": [
    "df_14.isna().sum()"
   ]
  },
  {
   "cell_type": "code",
   "execution_count": 65,
   "id": "7ab53880-5f68-4f7c-a0e3-5e6fac5103d2",
   "metadata": {},
   "outputs": [
    {
     "data": {
      "text/plain": [
       "Model                     0\n",
       "Displ                   453\n",
       "Cyl                     453\n",
       "Trans                     0\n",
       "Drive                     0\n",
       "Fuel                      0\n",
       "Sales_Area                0\n",
       "Stnd                      0\n",
       "Stnd_Description          0\n",
       "Underhood_ID              0\n",
       "Veh_Class                 0\n",
       "Air_Pollution_Score       0\n",
       "City_MPG                  0\n",
       "Hwy_MPG                   0\n",
       "Cmb_MPG                   0\n",
       "Greenhouse_Gas_Score      0\n",
       "SmartWay                  0\n",
       "Comb_CO2                  0\n",
       "dtype: int64"
      ]
     },
     "execution_count": 65,
     "metadata": {},
     "output_type": "execute_result"
    }
   ],
   "source": [
    "df_24.isna().sum()"
   ]
  },
  {
   "cell_type": "code",
   "execution_count": 70,
   "id": "21dbd9c7-18cc-4e21-afe8-2c9c826e4f10",
   "metadata": {},
   "outputs": [
    {
     "data": {
      "text/plain": [
       "Model                   587\n",
       "Displ                    49\n",
       "Cyl                       9\n",
       "Trans                    26\n",
       "Drive                     2\n",
       "Fuel                      8\n",
       "Sales_Area                3\n",
       "Stnd                     20\n",
       "Stnd_Description         20\n",
       "Underhood_ID            408\n",
       "Veh_Class                10\n",
       "Air_Pollution_Score       9\n",
       "City_MPG                 89\n",
       "Hwy_MPG                 105\n",
       "Cmb_MPG                  90\n",
       "Greenhouse_Gas_Score     11\n",
       "SmartWay                  4\n",
       "Comb_CO2                447\n",
       "dtype: int64"
      ]
     },
     "execution_count": 70,
     "metadata": {},
     "output_type": "execute_result"
    }
   ],
   "source": [
    "df_14.nunique()"
   ]
  },
  {
   "cell_type": "code",
   "execution_count": 73,
   "id": "07f0eb5a-d4d1-420e-9dbc-5f0146d0f533",
   "metadata": {},
   "outputs": [
    {
     "data": {
      "text/plain": [
       "Model                   836\n",
       "Displ                    33\n",
       "Cyl                       8\n",
       "Trans                    26\n",
       "Drive                     2\n",
       "Fuel                      6\n",
       "Sales_Area                2\n",
       "Stnd                     15\n",
       "Stnd_Description         15\n",
       "Underhood_ID            415\n",
       "Veh_Class                 9\n",
       "Air_Pollution_Score       7\n",
       "City_MPG                157\n",
       "Hwy_MPG                 137\n",
       "Cmb_MPG                 154\n",
       "Greenhouse_Gas_Score     10\n",
       "SmartWay                  3\n",
       "Comb_CO2                383\n",
       "dtype: int64"
      ]
     },
     "execution_count": 73,
     "metadata": {},
     "output_type": "execute_result"
    }
   ],
   "source": [
    "df_24.nunique()"
   ]
  },
  {
   "cell_type": "code",
   "execution_count": 77,
   "id": "d43921c1-0212-4282-b64a-55a2eddf78af",
   "metadata": {},
   "outputs": [],
   "source": [
    "#Lets drop the columns which are not relevant to our question!\n",
    "df_14.drop(['Stnd','Underhood_ID','Comb_CO2','Stnd_Description'],axis=1,inplace=True)\n",
    "# We would drop the same column for 2024 Dataset\n",
    "df_24.drop(['Stnd','Underhood_ID','Comb_CO2','Stnd_Description'],axis=1,inplace=True)"
   ]
  },
  {
   "cell_type": "code",
   "execution_count": 81,
   "id": "3c5401db-7eae-48c3-8245-cd6611b2fc12",
   "metadata": {},
   "outputs": [
    {
     "data": {
      "text/plain": [
       "True"
      ]
     },
     "execution_count": 81,
     "metadata": {},
     "output_type": "execute_result"
    }
   ],
   "source": [
    "(df_14.columns==df_24.columns).all()"
   ]
  },
  {
   "cell_type": "code",
   "execution_count": 80,
   "id": "bd2e6ae2-bf8a-497b-b215-1859df3034d4",
   "metadata": {},
   "outputs": [],
   "source": [
    "#Lets make the column lower case for easy writing operations\n",
    "df_14.rename(columns=lambda x:x.strip().lower(),inplace=True)\n",
    "df_24.rename(columns=lambda x:x.strip().lower(),inplace=True)"
   ]
  },
  {
   "cell_type": "code",
   "execution_count": 83,
   "id": "59171789-aded-4617-bdee-c63278068029",
   "metadata": {},
   "outputs": [
    {
     "data": {
      "text/plain": [
       "sales_area\n",
       "FA    1126\n",
       "CA    1079\n",
       "FC     312\n",
       "Name: count, dtype: int64"
      ]
     },
     "execution_count": 83,
     "metadata": {},
     "output_type": "execute_result"
    }
   ],
   "source": [
    "df_14['sales_area'].value_counts()"
   ]
  },
  {
   "cell_type": "code",
   "execution_count": 89,
   "id": "a5c9bf72-ddaf-4b7f-80d8-ffe07784426a",
   "metadata": {},
   "outputs": [],
   "source": [
    "# AS we only need data of CA (california) we would filter that out\n",
    "df_14=df_14[df_14['sales_area']=='CA']\n",
    "df_24=df_24[df_24['sales_area']=='CA']"
   ]
  },
  {
   "cell_type": "code",
   "execution_count": 92,
   "id": "38d0fd64-ac72-47e3-a61f-29044c751de8",
   "metadata": {},
   "outputs": [
    {
     "data": {
      "text/plain": [
       "(sales_area\n",
       " CA    1079\n",
       " Name: count, dtype: int64,\n",
       " sales_area\n",
       " CA    1225\n",
       " Name: count, dtype: int64)"
      ]
     },
     "execution_count": 92,
     "metadata": {},
     "output_type": "execute_result"
    }
   ],
   "source": [
    "df_14['sales_area'].value_counts(),df_24['sales_area'].value_counts()"
   ]
  },
  {
   "cell_type": "code",
   "execution_count": 94,
   "id": "9b45e273-5574-4a0b-bace-7c5a425996a7",
   "metadata": {},
   "outputs": [],
   "source": [
    "#Now we would drop sales area as we already have specific area sales\n",
    "df_14.drop('sales_area',axis=1,inplace=True)\n",
    "df_24.drop('sales_area',axis=1,inplace=True)"
   ]
  },
  {
   "cell_type": "code",
   "execution_count": 95,
   "id": "b1fd1e98-cc3e-47c8-9272-6303fc9de5ec",
   "metadata": {},
   "outputs": [
    {
     "data": {
      "text/plain": [
       "((1079, 13), (1225, 13))"
      ]
     },
     "execution_count": 95,
     "metadata": {},
     "output_type": "execute_result"
    }
   ],
   "source": [
    "df_14.shape,df_24.shape"
   ]
  },
  {
   "cell_type": "code",
   "execution_count": 96,
   "id": "29f4d998-093d-41a7-aeb0-de793e3184db",
   "metadata": {},
   "outputs": [
    {
     "data": {
      "text/plain": [
       "model                    0\n",
       "displ                   14\n",
       "cyl                     14\n",
       "trans                    0\n",
       "drive                    0\n",
       "fuel                     0\n",
       "veh_class                0\n",
       "air_pollution_score      0\n",
       "city_mpg                76\n",
       "hwy_mpg                 76\n",
       "cmb_mpg                 76\n",
       "greenhouse_gas_score    76\n",
       "smartway                 0\n",
       "dtype: int64"
      ]
     },
     "execution_count": 96,
     "metadata": {},
     "output_type": "execute_result"
    }
   ],
   "source": [
    "df_14.isna().sum()"
   ]
  },
  {
   "cell_type": "code",
   "execution_count": 97,
   "id": "b74e5d3a-9a04-4f03-81f9-fe27c5535691",
   "metadata": {},
   "outputs": [
    {
     "data": {
      "text/plain": [
       "model                     0\n",
       "displ                   228\n",
       "cyl                     228\n",
       "trans                     0\n",
       "drive                     0\n",
       "fuel                      0\n",
       "veh_class                 0\n",
       "air_pollution_score       0\n",
       "city_mpg                  0\n",
       "hwy_mpg                   0\n",
       "cmb_mpg                   0\n",
       "greenhouse_gas_score      0\n",
       "smartway                  0\n",
       "dtype: int64"
      ]
     },
     "execution_count": 97,
     "metadata": {},
     "output_type": "execute_result"
    }
   ],
   "source": [
    "df_24.isna().sum()"
   ]
  },
  {
   "cell_type": "code",
   "execution_count": 99,
   "id": "b0b40671-2364-463c-8538-1bd4c8f3830f",
   "metadata": {},
   "outputs": [],
   "source": [
    "#we would drop the NULL values\n",
    "df_14.dropna(inplace=True)\n",
    "df_24.dropna(inplace=True)"
   ]
  },
  {
   "cell_type": "code",
   "execution_count": 105,
   "id": "02dc2927-24cb-4fcf-985c-ebc0df71e5a7",
   "metadata": {},
   "outputs": [
    {
     "data": {
      "text/plain": [
       "(False, False)"
      ]
     },
     "execution_count": 105,
     "metadata": {},
     "output_type": "execute_result"
    }
   ],
   "source": [
    "df_14.isna().sum().any(),df_24.isna().sum().any()"
   ]
  },
  {
   "cell_type": "code",
   "execution_count": 108,
   "id": "3df6f6ab-38da-43de-886b-a0d9928d8b9f",
   "metadata": {},
   "outputs": [
    {
     "data": {
      "text/plain": [
       "(9, 14)"
      ]
     },
     "execution_count": 108,
     "metadata": {},
     "output_type": "execute_result"
    }
   ],
   "source": [
    "# Now lets remove duplicate Data\n",
    "df_14.duplicated().sum(),df_24.duplicated().sum()"
   ]
  },
  {
   "cell_type": "code",
   "execution_count": 109,
   "id": "8fcb4f67-9b97-4062-8fd9-439ff3dff265",
   "metadata": {},
   "outputs": [],
   "source": [
    "df_14.drop_duplicates(inplace=True)\n",
    "df_24.drop_duplicates(inplace=True)"
   ]
  },
  {
   "cell_type": "code",
   "execution_count": 110,
   "id": "a8286987-e2af-4fc8-978a-2a7d12cbdcd0",
   "metadata": {},
   "outputs": [
    {
     "data": {
      "text/plain": [
       "(0, 0)"
      ]
     },
     "execution_count": 110,
     "metadata": {},
     "output_type": "execute_result"
    }
   ],
   "source": [
    "df_14.duplicated().sum(),df_24.duplicated().sum()"
   ]
  },
  {
   "cell_type": "code",
   "execution_count": 111,
   "id": "165dbfd7-cc89-480f-9ff1-eec5a281956e",
   "metadata": {},
   "outputs": [
    {
     "data": {
      "text/plain": [
       "((980, 13), (983, 13))"
      ]
     },
     "execution_count": 111,
     "metadata": {},
     "output_type": "execute_result"
    }
   ],
   "source": [
    "df_14.shape,df_24.shape"
   ]
  },
  {
   "cell_type": "markdown",
   "id": "2b1c279c-786f-4c23-b726-2bd744f4d9c4",
   "metadata": {},
   "source": [
    "<h2>INSPECTING DATA TYPES:</h2>"
   ]
  },
  {
   "cell_type": "code",
   "execution_count": 134,
   "id": "863e12a2-773b-4b50-9195-71e0b1a0e9a4",
   "metadata": {},
   "outputs": [
    {
     "name": "stdout",
     "output_type": "stream",
     "text": [
      "<class 'pandas.core.frame.DataFrame'>\n",
      "Index: 959 entries, 1 to 2516\n",
      "Data columns (total 13 columns):\n",
      " #   Column                Non-Null Count  Dtype  \n",
      "---  ------                --------------  -----  \n",
      " 0   model                 959 non-null    object \n",
      " 1   displ                 959 non-null    float64\n",
      " 2   cyl                   959 non-null    float64\n",
      " 3   trans                 959 non-null    object \n",
      " 4   drive                 959 non-null    object \n",
      " 5   fuel                  959 non-null    object \n",
      " 6   veh_class             959 non-null    object \n",
      " 7   air_pollution_score   959 non-null    object \n",
      " 8   city_mpg              959 non-null    object \n",
      " 9   hwy_mpg               959 non-null    object \n",
      " 10  cmb_mpg               959 non-null    object \n",
      " 11  greenhouse_gas_score  959 non-null    object \n",
      " 12  smartway              959 non-null    object \n",
      "dtypes: float64(2), object(11)\n",
      "memory usage: 104.9+ KB\n"
     ]
    }
   ],
   "source": [
    "df_14.info()"
   ]
  },
  {
   "cell_type": "code",
   "execution_count": 135,
   "id": "af564803-2ace-4b8e-926d-ba5e3bcd93b3",
   "metadata": {},
   "outputs": [
    {
     "name": "stdout",
     "output_type": "stream",
     "text": [
      "<class 'pandas.core.frame.DataFrame'>\n",
      "Index: 983 entries, 0 to 2446\n",
      "Data columns (total 13 columns):\n",
      " #   Column                Non-Null Count  Dtype  \n",
      "---  ------                --------------  -----  \n",
      " 0   model                 983 non-null    object \n",
      " 1   displ                 983 non-null    float64\n",
      " 2   cyl                   983 non-null    float64\n",
      " 3   trans                 983 non-null    object \n",
      " 4   drive                 983 non-null    object \n",
      " 5   fuel                  983 non-null    object \n",
      " 6   veh_class             983 non-null    object \n",
      " 7   air_pollution_score   983 non-null    int64  \n",
      " 8   city_mpg              983 non-null    object \n",
      " 9   hwy_mpg               983 non-null    object \n",
      " 10  cmb_mpg               983 non-null    object \n",
      " 11  greenhouse_gas_score  983 non-null    int64  \n",
      " 12  smartway              983 non-null    object \n",
      "dtypes: float64(2), int64(2), object(9)\n",
      "memory usage: 107.5+ KB\n"
     ]
    }
   ],
   "source": [
    "df_24.info()"
   ]
  },
  {
   "cell_type": "code",
   "execution_count": 124,
   "id": "d6f07e28-66ca-4b50-8e4c-e63c180c6ad0",
   "metadata": {},
   "outputs": [
    {
     "data": {
      "text/plain": [
       "air_pollution_score\n",
       "6      617\n",
       "5      191\n",
       "9      108\n",
       "8       41\n",
       "Mod     21\n",
       "7        2\n",
       "Name: count, dtype: int64"
      ]
     },
     "execution_count": 124,
     "metadata": {},
     "output_type": "execute_result"
    }
   ],
   "source": [
    "df_14['air_pollution_score'].value_counts()"
   ]
  },
  {
   "cell_type": "code",
   "execution_count": 138,
   "id": "2815ae85-958f-4b15-a287-84a200607436",
   "metadata": {},
   "outputs": [
    {
     "data": {
      "text/plain": [
       "dtype('O')"
      ]
     },
     "execution_count": 138,
     "metadata": {},
     "output_type": "execute_result"
    }
   ],
   "source": [
    "df_14['greenhouse_gas_score'].dtype"
   ]
  },
  {
   "cell_type": "code",
   "execution_count": 126,
   "id": "4a02ea7c-b9ab-4207-9ea6-106fec66fdc8",
   "metadata": {},
   "outputs": [],
   "source": [
    "#Lets remove 'Mod' values from air_pollution_score column in 2014 dataset\n",
    "df_14['air_pollution_score'].replace('Mod',np.nan,inplace=True)"
   ]
  },
  {
   "cell_type": "code",
   "execution_count": 127,
   "id": "a71e2211-862a-4e22-b341-8c8b95987856",
   "metadata": {},
   "outputs": [],
   "source": [
    "df_14.dropna(inplace=True)"
   ]
  },
  {
   "cell_type": "code",
   "execution_count": 129,
   "id": "9bc6cd77-232a-4460-ac34-287704cfad09",
   "metadata": {},
   "outputs": [
    {
     "data": {
      "text/plain": [
       "air_pollution_score\n",
       "6    617\n",
       "5    191\n",
       "9    108\n",
       "8     41\n",
       "7      2\n",
       "Name: count, dtype: int64"
      ]
     },
     "execution_count": 129,
     "metadata": {},
     "output_type": "execute_result"
    }
   ],
   "source": [
    "df_14['air_pollution_score'].value_counts()"
   ]
  },
  {
   "cell_type": "code",
   "execution_count": 139,
   "id": "ab334fa1-8ee5-4bfb-997e-679e5f29404e",
   "metadata": {},
   "outputs": [
    {
     "data": {
      "text/plain": [
       "cmb_mpg\n",
       "21        79\n",
       "26        73\n",
       "19        62\n",
       "22        55\n",
       "20        55\n",
       "23        54\n",
       "28        53\n",
       "25        53\n",
       "18        52\n",
       "30        48\n",
       "24        43\n",
       "27        40\n",
       "15        35\n",
       "29        31\n",
       "16        30\n",
       "31        30\n",
       "17        29\n",
       "14        25\n",
       "32        12\n",
       "33        11\n",
       "13        10\n",
       "34         6\n",
       "35         6\n",
       "37         6\n",
       "42         5\n",
       "40         5\n",
       "38         4\n",
       "11/16      3\n",
       "13/18      3\n",
       "17/23      3\n",
       "18/23      3\n",
       "11/15      3\n",
       "16/24      3\n",
       "14/19      2\n",
       "45         2\n",
       "38/88      2\n",
       "36         2\n",
       "50         2\n",
       "15/19      1\n",
       "17/18      1\n",
       "25/50      1\n",
       "41         1\n",
       "15/22      1\n",
       "10         1\n",
       "14/21      1\n",
       "12         1\n",
       "14/20      1\n",
       "28/76      1\n",
       "15/21      1\n",
       "47         1\n",
       "16/23      1\n",
       "15/23      1\n",
       "10/14      1\n",
       "37/98      1\n",
       "39/117     1\n",
       "33/82      1\n",
       "50/95      1\n",
       "Name: count, dtype: int64"
      ]
     },
     "execution_count": 139,
     "metadata": {},
     "output_type": "execute_result"
    }
   ],
   "source": [
    "df_14['cmb_mpg'].value_counts()"
   ]
  },
  {
   "cell_type": "markdown",
   "id": "ec6a99b5-0ecd-4eb9-865c-e5119eba8262",
   "metadata": {},
   "source": [
    "<h3>By observing the Data using .info() we found:</h3>\n",
    "<font size=\"3\">1.converting 'cyl' column data type from float to int.<br>\n",
    "2.converting 'air_pollution_score' column dtype object to float.<br>\n",
    "3.converting 'greenhouse_gas_score' column dtype for 2014 from object to int.<br>\n",
    "4.Fix city_mpg,hwy_mpg,cmb_mpg Fixing rows values containing '/' and fixing dtypes.\n",
    "  "
   ]
  },
  {
   "cell_type": "code",
   "execution_count": 158,
   "id": "7162001a-3836-4de6-a0b7-8fdef2874b44",
   "metadata": {},
   "outputs": [],
   "source": [
    "# 'cyl'column\n",
    "df_14['cyl']=df_14['cyl'].astype('int')\n",
    "df_24['cyl']=df_24['cyl'].astype('int')"
   ]
  },
  {
   "cell_type": "code",
   "execution_count": 159,
   "id": "0e0ddc41-f176-4006-bf76-dbfed060b44a",
   "metadata": {},
   "outputs": [
    {
     "data": {
      "text/plain": [
       "(dtype('int64'), dtype('int64'))"
      ]
     },
     "execution_count": 159,
     "metadata": {},
     "output_type": "execute_result"
    }
   ],
   "source": [
    "df_14['cyl'].dtype,df_24['cyl'].dtype"
   ]
  },
  {
   "cell_type": "code",
   "execution_count": 160,
   "id": "b63cd639-4996-4cc5-b0c3-cda9c62ccac0",
   "metadata": {},
   "outputs": [],
   "source": [
    "# 'air_pollution_score' column\n",
    "df_14['air_pollution_score']=df_14['air_pollution_score'].astype('float') #only need to fix df_14 df_24 is already 'float' dtype"
   ]
  },
  {
   "cell_type": "code",
   "execution_count": 161,
   "id": "a8a7baeb-4e41-432c-a837-ac20bafff725",
   "metadata": {},
   "outputs": [
    {
     "data": {
      "text/plain": [
       "dtype('float64')"
      ]
     },
     "execution_count": 161,
     "metadata": {},
     "output_type": "execute_result"
    }
   ],
   "source": [
    "df_14['air_pollution_score'].dtype"
   ]
  },
  {
   "cell_type": "code",
   "execution_count": 251,
   "id": "c46779db-a03f-4e64-a379-0e6bb2c08b26",
   "metadata": {},
   "outputs": [],
   "source": [
    "# 'greehouse_gas_score' column\n",
    "df_14['greenhouse_gas_score']=df_14['greenhouse_gas_score'].astype('float')#only need to fix df_14 df_24 is already 'float' dtype"
   ]
  },
  {
   "cell_type": "code",
   "execution_count": 250,
   "id": "1edd7456-4bcc-4db7-bb57-cfe555c6cdd8",
   "metadata": {},
   "outputs": [
    {
     "data": {
      "text/plain": [
       "dtype('float64')"
      ]
     },
     "execution_count": 250,
     "metadata": {},
     "output_type": "execute_result"
    }
   ],
   "source": [
    "df_14['air_pollution_score'].dtype"
   ]
  },
  {
   "cell_type": "markdown",
   "id": "ae39e306-532b-4c8c-811d-4453bd4ca821",
   "metadata": {},
   "source": [
    "<font size=\"3\"> The mpg columns('city_mpg','hwy_mpg,'cmb_mpg') seem to have a problem some values in rows are seprated by '/',maybe that \n",
    "why they are saved as string.<br>\n",
    "<font size=\"3\"> According to [This Link](https://www.fueleconomy.gov/feg/findacarhelp.shtml#airPollutionScore).<font size=\"3\"> I found that **'If a vehical can operate on more than one type of fuel an estimate is provided for each fuel type**.\"<br>\n",
    "<font size='3'> So all vehicles with more than one fuel type,or hybrid will have a string that holds two values -one for each.\n",
    "\n"
   ]
  },
  {
   "cell_type": "code",
   "execution_count": 169,
   "id": "220b9748-0de4-41e0-9e35-c730d7555e9b",
   "metadata": {},
   "outputs": [],
   "source": [
    "# First lets get all the hybrids for 2014\n",
    "hy_14=df_14[df_14['fuel'].str.contains('/')]"
   ]
  },
  {
   "cell_type": "code",
   "execution_count": 179,
   "id": "67180892-dbf6-43dd-93cb-a084073ba1fb",
   "metadata": {},
   "outputs": [
    {
     "data": {
      "text/plain": [
       "(37, 13)"
      ]
     },
     "execution_count": 179,
     "metadata": {},
     "output_type": "execute_result"
    }
   ],
   "source": [
    "hy_14.shape  #37 values for 2014 dataset"
   ]
  },
  {
   "cell_type": "code",
   "execution_count": 174,
   "id": "173bcb4b-df8b-4999-b104-fa459245e268",
   "metadata": {},
   "outputs": [
    {
     "data": {
      "text/html": [
       "<div>\n",
       "<style scoped>\n",
       "    .dataframe tbody tr th:only-of-type {\n",
       "        vertical-align: middle;\n",
       "    }\n",
       "\n",
       "    .dataframe tbody tr th {\n",
       "        vertical-align: top;\n",
       "    }\n",
       "\n",
       "    .dataframe thead th {\n",
       "        text-align: right;\n",
       "    }\n",
       "</style>\n",
       "<table border=\"1\" class=\"dataframe\">\n",
       "  <thead>\n",
       "    <tr style=\"text-align: right;\">\n",
       "      <th></th>\n",
       "      <th>model</th>\n",
       "      <th>displ</th>\n",
       "      <th>cyl</th>\n",
       "      <th>trans</th>\n",
       "      <th>drive</th>\n",
       "      <th>fuel</th>\n",
       "      <th>veh_class</th>\n",
       "      <th>air_pollution_score</th>\n",
       "      <th>city_mpg</th>\n",
       "      <th>hwy_mpg</th>\n",
       "      <th>cmb_mpg</th>\n",
       "      <th>greenhouse_gas_score</th>\n",
       "      <th>smartway</th>\n",
       "    </tr>\n",
       "  </thead>\n",
       "  <tbody>\n",
       "    <tr>\n",
       "      <th>49</th>\n",
       "      <td>AUDI A4</td>\n",
       "      <td>2.0</td>\n",
       "      <td>4</td>\n",
       "      <td>SemiAuto-8</td>\n",
       "      <td>4WD</td>\n",
       "      <td>Ethanol/Gas</td>\n",
       "      <td>small car</td>\n",
       "      <td>6.0</td>\n",
       "      <td>14/20</td>\n",
       "      <td>20/29</td>\n",
       "      <td>16/24</td>\n",
       "      <td>6.0</td>\n",
       "      <td>No</td>\n",
       "    </tr>\n",
       "    <tr>\n",
       "      <th>55</th>\n",
       "      <td>AUDI A5</td>\n",
       "      <td>2.0</td>\n",
       "      <td>4</td>\n",
       "      <td>SemiAuto-8</td>\n",
       "      <td>4WD</td>\n",
       "      <td>Ethanol/Gas</td>\n",
       "      <td>small car</td>\n",
       "      <td>6.0</td>\n",
       "      <td>14/20</td>\n",
       "      <td>20/29</td>\n",
       "      <td>16/24</td>\n",
       "      <td>6.0</td>\n",
       "      <td>No</td>\n",
       "    </tr>\n",
       "    <tr>\n",
       "      <th>57</th>\n",
       "      <td>AUDI A5 Cabriolet</td>\n",
       "      <td>2.0</td>\n",
       "      <td>4</td>\n",
       "      <td>SemiAuto-8</td>\n",
       "      <td>4WD</td>\n",
       "      <td>Ethanol/Gas</td>\n",
       "      <td>small car</td>\n",
       "      <td>6.0</td>\n",
       "      <td>14/20</td>\n",
       "      <td>20/29</td>\n",
       "      <td>16/24</td>\n",
       "      <td>6.0</td>\n",
       "      <td>No</td>\n",
       "    </tr>\n",
       "    <tr>\n",
       "      <th>79</th>\n",
       "      <td>AUDI Q5</td>\n",
       "      <td>2.0</td>\n",
       "      <td>4</td>\n",
       "      <td>SemiAuto-8</td>\n",
       "      <td>4WD</td>\n",
       "      <td>Ethanol/Gas</td>\n",
       "      <td>small SUV</td>\n",
       "      <td>6.0</td>\n",
       "      <td>14/20</td>\n",
       "      <td>19/28</td>\n",
       "      <td>16/23</td>\n",
       "      <td>6.0</td>\n",
       "      <td>No</td>\n",
       "    </tr>\n",
       "    <tr>\n",
       "      <th>135</th>\n",
       "      <td>AUDI allroad quattro</td>\n",
       "      <td>2.0</td>\n",
       "      <td>4</td>\n",
       "      <td>SemiAuto-8</td>\n",
       "      <td>4WD</td>\n",
       "      <td>Ethanol/Gas</td>\n",
       "      <td>station wagon</td>\n",
       "      <td>6.0</td>\n",
       "      <td>14/20</td>\n",
       "      <td>18/27</td>\n",
       "      <td>15/23</td>\n",
       "      <td>6.0</td>\n",
       "      <td>No</td>\n",
       "    </tr>\n",
       "  </tbody>\n",
       "</table>\n",
       "</div>"
      ],
      "text/plain": [
       "                    model  displ  cyl       trans drive         fuel  \\\n",
       "49                AUDI A4    2.0    4  SemiAuto-8   4WD  Ethanol/Gas   \n",
       "55                AUDI A5    2.0    4  SemiAuto-8   4WD  Ethanol/Gas   \n",
       "57      AUDI A5 Cabriolet    2.0    4  SemiAuto-8   4WD  Ethanol/Gas   \n",
       "79                AUDI Q5    2.0    4  SemiAuto-8   4WD  Ethanol/Gas   \n",
       "135  AUDI allroad quattro    2.0    4  SemiAuto-8   4WD  Ethanol/Gas   \n",
       "\n",
       "         veh_class  air_pollution_score city_mpg hwy_mpg cmb_mpg  \\\n",
       "49       small car                  6.0    14/20   20/29   16/24   \n",
       "55       small car                  6.0    14/20   20/29   16/24   \n",
       "57       small car                  6.0    14/20   20/29   16/24   \n",
       "79       small SUV                  6.0    14/20   19/28   16/23   \n",
       "135  station wagon                  6.0    14/20   18/27   15/23   \n",
       "\n",
       "     greenhouse_gas_score smartway  \n",
       "49                    6.0       No  \n",
       "55                    6.0       No  \n",
       "57                    6.0       No  \n",
       "79                    6.0       No  \n",
       "135                   6.0       No  "
      ]
     },
     "execution_count": 174,
     "metadata": {},
     "output_type": "execute_result"
    }
   ],
   "source": [
    "hy_14.head()"
   ]
  },
  {
   "cell_type": "code",
   "execution_count": 176,
   "id": "f706851b-f2ca-42d3-9565-f6c012ff1a28",
   "metadata": {},
   "outputs": [],
   "source": [
    "hy_24=df_24[df_24['fuel'].str.contains('/')]"
   ]
  },
  {
   "cell_type": "code",
   "execution_count": 178,
   "id": "e8251661-1fe9-4b8f-9f2d-3f025e9b959c",
   "metadata": {},
   "outputs": [
    {
     "data": {
      "text/plain": [
       "(52, 13)"
      ]
     },
     "execution_count": 178,
     "metadata": {},
     "output_type": "execute_result"
    }
   ],
   "source": [
    "hy_24.shape # 52 values for 2024 dataset"
   ]
  },
  {
   "cell_type": "code",
   "execution_count": 180,
   "id": "c9bc419c-64eb-4730-8fee-ae82e91e0a60",
   "metadata": {},
   "outputs": [
    {
     "data": {
      "text/html": [
       "<div>\n",
       "<style scoped>\n",
       "    .dataframe tbody tr th:only-of-type {\n",
       "        vertical-align: middle;\n",
       "    }\n",
       "\n",
       "    .dataframe tbody tr th {\n",
       "        vertical-align: top;\n",
       "    }\n",
       "\n",
       "    .dataframe thead th {\n",
       "        text-align: right;\n",
       "    }\n",
       "</style>\n",
       "<table border=\"1\" class=\"dataframe\">\n",
       "  <thead>\n",
       "    <tr style=\"text-align: right;\">\n",
       "      <th></th>\n",
       "      <th>model</th>\n",
       "      <th>displ</th>\n",
       "      <th>cyl</th>\n",
       "      <th>trans</th>\n",
       "      <th>drive</th>\n",
       "      <th>fuel</th>\n",
       "      <th>veh_class</th>\n",
       "      <th>air_pollution_score</th>\n",
       "      <th>city_mpg</th>\n",
       "      <th>hwy_mpg</th>\n",
       "      <th>cmb_mpg</th>\n",
       "      <th>greenhouse_gas_score</th>\n",
       "      <th>smartway</th>\n",
       "    </tr>\n",
       "  </thead>\n",
       "  <tbody>\n",
       "    <tr>\n",
       "      <th>36</th>\n",
       "      <td>ALFA ROMEO Tonale eAWD</td>\n",
       "      <td>1.3</td>\n",
       "      <td>4</td>\n",
       "      <td>Auto-6</td>\n",
       "      <td>4WD</td>\n",
       "      <td>Gasoline/Electricity</td>\n",
       "      <td>small SUV</td>\n",
       "      <td>6</td>\n",
       "      <td>29/77</td>\n",
       "      <td>29/77</td>\n",
       "      <td>29/77</td>\n",
       "      <td>9</td>\n",
       "      <td>No</td>\n",
       "    </tr>\n",
       "    <tr>\n",
       "      <th>84</th>\n",
       "      <td>AUDI Q5 Plug-In Hybrid quattro</td>\n",
       "      <td>2.0</td>\n",
       "      <td>4</td>\n",
       "      <td>AMS-7</td>\n",
       "      <td>4WD</td>\n",
       "      <td>Gasoline/Electricity</td>\n",
       "      <td>small SUV</td>\n",
       "      <td>7</td>\n",
       "      <td>25/55</td>\n",
       "      <td>27/61</td>\n",
       "      <td>26/58</td>\n",
       "      <td>9</td>\n",
       "      <td>Yes</td>\n",
       "    </tr>\n",
       "    <tr>\n",
       "      <th>156</th>\n",
       "      <td>BENTLEY Bentayga Hybrid</td>\n",
       "      <td>3.0</td>\n",
       "      <td>6</td>\n",
       "      <td>SemiAuto-8</td>\n",
       "      <td>4WD</td>\n",
       "      <td>Gasoline/Electricity</td>\n",
       "      <td>standard SUV</td>\n",
       "      <td>3</td>\n",
       "      <td>19/41</td>\n",
       "      <td>23/43</td>\n",
       "      <td>21/42</td>\n",
       "      <td>8</td>\n",
       "      <td>No</td>\n",
       "    </tr>\n",
       "    <tr>\n",
       "      <th>170</th>\n",
       "      <td>BENTLEY Flying Spur Hybrid</td>\n",
       "      <td>2.9</td>\n",
       "      <td>6</td>\n",
       "      <td>AMS-8</td>\n",
       "      <td>4WD</td>\n",
       "      <td>Gasoline/Electricity</td>\n",
       "      <td>midsize car</td>\n",
       "      <td>5</td>\n",
       "      <td>17/43</td>\n",
       "      <td>22/50</td>\n",
       "      <td>19/46</td>\n",
       "      <td>7</td>\n",
       "      <td>No</td>\n",
       "    </tr>\n",
       "    <tr>\n",
       "      <th>182</th>\n",
       "      <td>BMW 330e</td>\n",
       "      <td>2.0</td>\n",
       "      <td>4</td>\n",
       "      <td>SemiAuto-8</td>\n",
       "      <td>2WD</td>\n",
       "      <td>Gasoline/Electricity</td>\n",
       "      <td>small car</td>\n",
       "      <td>7</td>\n",
       "      <td>24/69</td>\n",
       "      <td>32/78</td>\n",
       "      <td>27/73</td>\n",
       "      <td>8</td>\n",
       "      <td>Yes</td>\n",
       "    </tr>\n",
       "  </tbody>\n",
       "</table>\n",
       "</div>"
      ],
      "text/plain": [
       "                              model  displ  cyl       trans drive  \\\n",
       "36           ALFA ROMEO Tonale eAWD    1.3    4      Auto-6   4WD   \n",
       "84   AUDI Q5 Plug-In Hybrid quattro    2.0    4       AMS-7   4WD   \n",
       "156         BENTLEY Bentayga Hybrid    3.0    6  SemiAuto-8   4WD   \n",
       "170      BENTLEY Flying Spur Hybrid    2.9    6       AMS-8   4WD   \n",
       "182                        BMW 330e    2.0    4  SemiAuto-8   2WD   \n",
       "\n",
       "                     fuel     veh_class  air_pollution_score city_mpg hwy_mpg  \\\n",
       "36   Gasoline/Electricity     small SUV                    6    29/77   29/77   \n",
       "84   Gasoline/Electricity     small SUV                    7    25/55   27/61   \n",
       "156  Gasoline/Electricity  standard SUV                    3    19/41   23/43   \n",
       "170  Gasoline/Electricity   midsize car                    5    17/43   22/50   \n",
       "182  Gasoline/Electricity     small car                    7    24/69   32/78   \n",
       "\n",
       "    cmb_mpg  greenhouse_gas_score smartway  \n",
       "36    29/77                     9       No  \n",
       "84    26/58                     9      Yes  \n",
       "156   21/42                     8       No  \n",
       "170   19/46                     7       No  \n",
       "182   27/73                     8      Yes  "
      ]
     },
     "execution_count": 180,
     "metadata": {},
     "output_type": "execute_result"
    }
   ],
   "source": [
    "hy_24.head()"
   ]
  },
  {
   "cell_type": "markdown",
   "id": "3b1683bc-f051-490a-b630-b02b0ecf14e6",
   "metadata": {},
   "source": [
    "<font size='3'> We’re are going to take each hybrid rows and split them into two new rows.<br>\n",
    "<font size='3'> One with values before '/' and other with after."
   ]
  },
  {
   "cell_type": "code",
   "execution_count": 181,
   "id": "611c20e0-c6fe-4d8e-8077-43f3c927afcf",
   "metadata": {},
   "outputs": [],
   "source": [
    "df1=hy_14.copy()\n",
    "df2=hy_14.copy()"
   ]
  },
  {
   "cell_type": "code",
   "execution_count": 184,
   "id": "a0ac43a0-8c20-4588-801e-23b6ced6208e",
   "metadata": {},
   "outputs": [
    {
     "data": {
      "text/html": [
       "<div>\n",
       "<style scoped>\n",
       "    .dataframe tbody tr th:only-of-type {\n",
       "        vertical-align: middle;\n",
       "    }\n",
       "\n",
       "    .dataframe tbody tr th {\n",
       "        vertical-align: top;\n",
       "    }\n",
       "\n",
       "    .dataframe thead th {\n",
       "        text-align: right;\n",
       "    }\n",
       "</style>\n",
       "<table border=\"1\" class=\"dataframe\">\n",
       "  <thead>\n",
       "    <tr style=\"text-align: right;\">\n",
       "      <th></th>\n",
       "      <th>model</th>\n",
       "      <th>displ</th>\n",
       "      <th>cyl</th>\n",
       "      <th>trans</th>\n",
       "      <th>drive</th>\n",
       "      <th>fuel</th>\n",
       "      <th>veh_class</th>\n",
       "      <th>air_pollution_score</th>\n",
       "      <th>city_mpg</th>\n",
       "      <th>hwy_mpg</th>\n",
       "      <th>cmb_mpg</th>\n",
       "      <th>greenhouse_gas_score</th>\n",
       "      <th>smartway</th>\n",
       "    </tr>\n",
       "  </thead>\n",
       "  <tbody>\n",
       "    <tr>\n",
       "      <th>49</th>\n",
       "      <td>AUDI A4</td>\n",
       "      <td>2.0</td>\n",
       "      <td>4</td>\n",
       "      <td>SemiAuto-8</td>\n",
       "      <td>4WD</td>\n",
       "      <td>Ethanol/Gas</td>\n",
       "      <td>small car</td>\n",
       "      <td>6.0</td>\n",
       "      <td>14/20</td>\n",
       "      <td>20/29</td>\n",
       "      <td>16/24</td>\n",
       "      <td>6.0</td>\n",
       "      <td>No</td>\n",
       "    </tr>\n",
       "    <tr>\n",
       "      <th>55</th>\n",
       "      <td>AUDI A5</td>\n",
       "      <td>2.0</td>\n",
       "      <td>4</td>\n",
       "      <td>SemiAuto-8</td>\n",
       "      <td>4WD</td>\n",
       "      <td>Ethanol/Gas</td>\n",
       "      <td>small car</td>\n",
       "      <td>6.0</td>\n",
       "      <td>14/20</td>\n",
       "      <td>20/29</td>\n",
       "      <td>16/24</td>\n",
       "      <td>6.0</td>\n",
       "      <td>No</td>\n",
       "    </tr>\n",
       "    <tr>\n",
       "      <th>57</th>\n",
       "      <td>AUDI A5 Cabriolet</td>\n",
       "      <td>2.0</td>\n",
       "      <td>4</td>\n",
       "      <td>SemiAuto-8</td>\n",
       "      <td>4WD</td>\n",
       "      <td>Ethanol/Gas</td>\n",
       "      <td>small car</td>\n",
       "      <td>6.0</td>\n",
       "      <td>14/20</td>\n",
       "      <td>20/29</td>\n",
       "      <td>16/24</td>\n",
       "      <td>6.0</td>\n",
       "      <td>No</td>\n",
       "    </tr>\n",
       "    <tr>\n",
       "      <th>79</th>\n",
       "      <td>AUDI Q5</td>\n",
       "      <td>2.0</td>\n",
       "      <td>4</td>\n",
       "      <td>SemiAuto-8</td>\n",
       "      <td>4WD</td>\n",
       "      <td>Ethanol/Gas</td>\n",
       "      <td>small SUV</td>\n",
       "      <td>6.0</td>\n",
       "      <td>14/20</td>\n",
       "      <td>19/28</td>\n",
       "      <td>16/23</td>\n",
       "      <td>6.0</td>\n",
       "      <td>No</td>\n",
       "    </tr>\n",
       "    <tr>\n",
       "      <th>135</th>\n",
       "      <td>AUDI allroad quattro</td>\n",
       "      <td>2.0</td>\n",
       "      <td>4</td>\n",
       "      <td>SemiAuto-8</td>\n",
       "      <td>4WD</td>\n",
       "      <td>Ethanol/Gas</td>\n",
       "      <td>station wagon</td>\n",
       "      <td>6.0</td>\n",
       "      <td>14/20</td>\n",
       "      <td>18/27</td>\n",
       "      <td>15/23</td>\n",
       "      <td>6.0</td>\n",
       "      <td>No</td>\n",
       "    </tr>\n",
       "  </tbody>\n",
       "</table>\n",
       "</div>"
      ],
      "text/plain": [
       "                    model  displ  cyl       trans drive         fuel  \\\n",
       "49                AUDI A4    2.0    4  SemiAuto-8   4WD  Ethanol/Gas   \n",
       "55                AUDI A5    2.0    4  SemiAuto-8   4WD  Ethanol/Gas   \n",
       "57      AUDI A5 Cabriolet    2.0    4  SemiAuto-8   4WD  Ethanol/Gas   \n",
       "79                AUDI Q5    2.0    4  SemiAuto-8   4WD  Ethanol/Gas   \n",
       "135  AUDI allroad quattro    2.0    4  SemiAuto-8   4WD  Ethanol/Gas   \n",
       "\n",
       "         veh_class  air_pollution_score city_mpg hwy_mpg cmb_mpg  \\\n",
       "49       small car                  6.0    14/20   20/29   16/24   \n",
       "55       small car                  6.0    14/20   20/29   16/24   \n",
       "57       small car                  6.0    14/20   20/29   16/24   \n",
       "79       small SUV                  6.0    14/20   19/28   16/23   \n",
       "135  station wagon                  6.0    14/20   18/27   15/23   \n",
       "\n",
       "     greenhouse_gas_score smartway  \n",
       "49                    6.0       No  \n",
       "55                    6.0       No  \n",
       "57                    6.0       No  \n",
       "79                    6.0       No  \n",
       "135                   6.0       No  "
      ]
     },
     "execution_count": 184,
     "metadata": {},
     "output_type": "execute_result"
    }
   ],
   "source": [
    "df1.head()"
   ]
  },
  {
   "cell_type": "code",
   "execution_count": 185,
   "id": "72cdcd00-6c38-4b95-89d0-8bdcb2e8a25e",
   "metadata": {},
   "outputs": [],
   "source": [
    "split_columns=['city_mpg','hwy_mpg','cmb_mpg','fuel'] # columns with split values '/'"
   ]
  },
  {
   "cell_type": "code",
   "execution_count": 187,
   "id": "c59c7292-e192-4c5b-a0c4-dcc34ad2915e",
   "metadata": {},
   "outputs": [],
   "source": [
    "for i in split_columns:\n",
    "    df1[i]=df1[i].apply(lambda x:x.split('/')[0])\n",
    "    df2[i]=df2[i].apply(lambda x:x.split('/')[1])"
   ]
  },
  {
   "cell_type": "code",
   "execution_count": 203,
   "id": "a63c53e6-eb3f-4727-a433-cb50775ee3e1",
   "metadata": {},
   "outputs": [
    {
     "data": {
      "text/html": [
       "<div>\n",
       "<style scoped>\n",
       "    .dataframe tbody tr th:only-of-type {\n",
       "        vertical-align: middle;\n",
       "    }\n",
       "\n",
       "    .dataframe tbody tr th {\n",
       "        vertical-align: top;\n",
       "    }\n",
       "\n",
       "    .dataframe thead th {\n",
       "        text-align: right;\n",
       "    }\n",
       "</style>\n",
       "<table border=\"1\" class=\"dataframe\">\n",
       "  <thead>\n",
       "    <tr style=\"text-align: right;\">\n",
       "      <th></th>\n",
       "      <th>model</th>\n",
       "      <th>displ</th>\n",
       "      <th>cyl</th>\n",
       "      <th>trans</th>\n",
       "      <th>drive</th>\n",
       "      <th>fuel</th>\n",
       "      <th>veh_class</th>\n",
       "      <th>air_pollution_score</th>\n",
       "      <th>city_mpg</th>\n",
       "      <th>hwy_mpg</th>\n",
       "      <th>cmb_mpg</th>\n",
       "      <th>greenhouse_gas_score</th>\n",
       "      <th>smartway</th>\n",
       "    </tr>\n",
       "  </thead>\n",
       "  <tbody>\n",
       "    <tr>\n",
       "      <th>49</th>\n",
       "      <td>AUDI A4</td>\n",
       "      <td>2.0</td>\n",
       "      <td>4</td>\n",
       "      <td>SemiAuto-8</td>\n",
       "      <td>4WD</td>\n",
       "      <td>Ethanol</td>\n",
       "      <td>small car</td>\n",
       "      <td>6.0</td>\n",
       "      <td>14</td>\n",
       "      <td>20</td>\n",
       "      <td>16</td>\n",
       "      <td>6.0</td>\n",
       "      <td>No</td>\n",
       "    </tr>\n",
       "    <tr>\n",
       "      <th>55</th>\n",
       "      <td>AUDI A5</td>\n",
       "      <td>2.0</td>\n",
       "      <td>4</td>\n",
       "      <td>SemiAuto-8</td>\n",
       "      <td>4WD</td>\n",
       "      <td>Ethanol</td>\n",
       "      <td>small car</td>\n",
       "      <td>6.0</td>\n",
       "      <td>14</td>\n",
       "      <td>20</td>\n",
       "      <td>16</td>\n",
       "      <td>6.0</td>\n",
       "      <td>No</td>\n",
       "    </tr>\n",
       "    <tr>\n",
       "      <th>57</th>\n",
       "      <td>AUDI A5 Cabriolet</td>\n",
       "      <td>2.0</td>\n",
       "      <td>4</td>\n",
       "      <td>SemiAuto-8</td>\n",
       "      <td>4WD</td>\n",
       "      <td>Ethanol</td>\n",
       "      <td>small car</td>\n",
       "      <td>6.0</td>\n",
       "      <td>14</td>\n",
       "      <td>20</td>\n",
       "      <td>16</td>\n",
       "      <td>6.0</td>\n",
       "      <td>No</td>\n",
       "    </tr>\n",
       "    <tr>\n",
       "      <th>79</th>\n",
       "      <td>AUDI Q5</td>\n",
       "      <td>2.0</td>\n",
       "      <td>4</td>\n",
       "      <td>SemiAuto-8</td>\n",
       "      <td>4WD</td>\n",
       "      <td>Ethanol</td>\n",
       "      <td>small SUV</td>\n",
       "      <td>6.0</td>\n",
       "      <td>14</td>\n",
       "      <td>19</td>\n",
       "      <td>16</td>\n",
       "      <td>6.0</td>\n",
       "      <td>No</td>\n",
       "    </tr>\n",
       "    <tr>\n",
       "      <th>135</th>\n",
       "      <td>AUDI allroad quattro</td>\n",
       "      <td>2.0</td>\n",
       "      <td>4</td>\n",
       "      <td>SemiAuto-8</td>\n",
       "      <td>4WD</td>\n",
       "      <td>Ethanol</td>\n",
       "      <td>station wagon</td>\n",
       "      <td>6.0</td>\n",
       "      <td>14</td>\n",
       "      <td>18</td>\n",
       "      <td>15</td>\n",
       "      <td>6.0</td>\n",
       "      <td>No</td>\n",
       "    </tr>\n",
       "  </tbody>\n",
       "</table>\n",
       "</div>"
      ],
      "text/plain": [
       "                    model  displ  cyl       trans drive     fuel  \\\n",
       "49                AUDI A4    2.0    4  SemiAuto-8   4WD  Ethanol   \n",
       "55                AUDI A5    2.0    4  SemiAuto-8   4WD  Ethanol   \n",
       "57      AUDI A5 Cabriolet    2.0    4  SemiAuto-8   4WD  Ethanol   \n",
       "79                AUDI Q5    2.0    4  SemiAuto-8   4WD  Ethanol   \n",
       "135  AUDI allroad quattro    2.0    4  SemiAuto-8   4WD  Ethanol   \n",
       "\n",
       "         veh_class  air_pollution_score city_mpg hwy_mpg cmb_mpg  \\\n",
       "49       small car                  6.0       14      20      16   \n",
       "55       small car                  6.0       14      20      16   \n",
       "57       small car                  6.0       14      20      16   \n",
       "79       small SUV                  6.0       14      19      16   \n",
       "135  station wagon                  6.0       14      18      15   \n",
       "\n",
       "     greenhouse_gas_score smartway  \n",
       "49                    6.0       No  \n",
       "55                    6.0       No  \n",
       "57                    6.0       No  \n",
       "79                    6.0       No  \n",
       "135                   6.0       No  "
      ]
     },
     "execution_count": 203,
     "metadata": {},
     "output_type": "execute_result"
    }
   ],
   "source": [
    "df1.head() # This dataframe hold the value before the '/'"
   ]
  },
  {
   "cell_type": "code",
   "execution_count": 192,
   "id": "ed5b5dea-fcf4-4a60-b993-e7aaad95edd1",
   "metadata": {},
   "outputs": [],
   "source": [
    "#now lest combine both df1 and df2\n",
    "new_value=pd.concat([df1,df2])"
   ]
  },
  {
   "cell_type": "code",
   "execution_count": 206,
   "id": "7e771590-4ca3-4fb8-b3fd-3c8d3e9f0c73",
   "metadata": {},
   "outputs": [
    {
     "data": {
      "text/html": [
       "<div>\n",
       "<style scoped>\n",
       "    .dataframe tbody tr th:only-of-type {\n",
       "        vertical-align: middle;\n",
       "    }\n",
       "\n",
       "    .dataframe tbody tr th {\n",
       "        vertical-align: top;\n",
       "    }\n",
       "\n",
       "    .dataframe thead th {\n",
       "        text-align: right;\n",
       "    }\n",
       "</style>\n",
       "<table border=\"1\" class=\"dataframe\">\n",
       "  <thead>\n",
       "    <tr style=\"text-align: right;\">\n",
       "      <th></th>\n",
       "      <th>model</th>\n",
       "      <th>displ</th>\n",
       "      <th>cyl</th>\n",
       "      <th>trans</th>\n",
       "      <th>drive</th>\n",
       "      <th>fuel</th>\n",
       "      <th>veh_class</th>\n",
       "      <th>air_pollution_score</th>\n",
       "      <th>city_mpg</th>\n",
       "      <th>hwy_mpg</th>\n",
       "      <th>cmb_mpg</th>\n",
       "      <th>greenhouse_gas_score</th>\n",
       "      <th>smartway</th>\n",
       "    </tr>\n",
       "  </thead>\n",
       "  <tbody>\n",
       "    <tr>\n",
       "      <th>1592</th>\n",
       "      <td>MERCEDES-BENZ E350 Convertible</td>\n",
       "      <td>3.5</td>\n",
       "      <td>6</td>\n",
       "      <td>Auto-7</td>\n",
       "      <td>2WD</td>\n",
       "      <td>Gas</td>\n",
       "      <td>small car</td>\n",
       "      <td>6.0</td>\n",
       "      <td>20</td>\n",
       "      <td>28</td>\n",
       "      <td>23</td>\n",
       "      <td>6.0</td>\n",
       "      <td>No</td>\n",
       "    </tr>\n",
       "    <tr>\n",
       "      <th>1638</th>\n",
       "      <td>MERCEDES-BENZ ML350 4Matic</td>\n",
       "      <td>3.5</td>\n",
       "      <td>6</td>\n",
       "      <td>Auto-7</td>\n",
       "      <td>4WD</td>\n",
       "      <td>Gas</td>\n",
       "      <td>standard SUV</td>\n",
       "      <td>6.0</td>\n",
       "      <td>17</td>\n",
       "      <td>22</td>\n",
       "      <td>19</td>\n",
       "      <td>4.0</td>\n",
       "      <td>No</td>\n",
       "    </tr>\n",
       "    <tr>\n",
       "      <th>1823</th>\n",
       "      <td>McLAREN P1</td>\n",
       "      <td>3.8</td>\n",
       "      <td>8</td>\n",
       "      <td>Auto-7</td>\n",
       "      <td>2WD</td>\n",
       "      <td>Electricity</td>\n",
       "      <td>small car</td>\n",
       "      <td>5.0</td>\n",
       "      <td>16</td>\n",
       "      <td>21</td>\n",
       "      <td>18</td>\n",
       "      <td>4.0</td>\n",
       "      <td>No</td>\n",
       "    </tr>\n",
       "    <tr>\n",
       "      <th>2030</th>\n",
       "      <td>PORSCHE Panamera S E-Hybrid</td>\n",
       "      <td>3.0</td>\n",
       "      <td>6</td>\n",
       "      <td>AMS-8</td>\n",
       "      <td>2WD</td>\n",
       "      <td>Electricity</td>\n",
       "      <td>large car</td>\n",
       "      <td>6.0</td>\n",
       "      <td>42</td>\n",
       "      <td>66</td>\n",
       "      <td>50</td>\n",
       "      <td>10.0</td>\n",
       "      <td>Yes</td>\n",
       "    </tr>\n",
       "    <tr>\n",
       "      <th>2302</th>\n",
       "      <td>TOYOTA Prius Plug-in Hybrid</td>\n",
       "      <td>1.8</td>\n",
       "      <td>4</td>\n",
       "      <td>CVT</td>\n",
       "      <td>2WD</td>\n",
       "      <td>Electricity</td>\n",
       "      <td>midsize car</td>\n",
       "      <td>9.0</td>\n",
       "      <td>90</td>\n",
       "      <td>102</td>\n",
       "      <td>95</td>\n",
       "      <td>10.0</td>\n",
       "      <td>Elite</td>\n",
       "    </tr>\n",
       "  </tbody>\n",
       "</table>\n",
       "</div>"
      ],
      "text/plain": [
       "                               model  displ  cyl   trans drive         fuel  \\\n",
       "1592  MERCEDES-BENZ E350 Convertible    3.5    6  Auto-7   2WD          Gas   \n",
       "1638      MERCEDES-BENZ ML350 4Matic    3.5    6  Auto-7   4WD          Gas   \n",
       "1823                      McLAREN P1    3.8    8  Auto-7   2WD  Electricity   \n",
       "2030     PORSCHE Panamera S E-Hybrid    3.0    6   AMS-8   2WD  Electricity   \n",
       "2302     TOYOTA Prius Plug-in Hybrid    1.8    4     CVT   2WD  Electricity   \n",
       "\n",
       "         veh_class  air_pollution_score city_mpg hwy_mpg cmb_mpg  \\\n",
       "1592     small car                  6.0       20      28      23   \n",
       "1638  standard SUV                  6.0       17      22      19   \n",
       "1823     small car                  5.0       16      21      18   \n",
       "2030     large car                  6.0       42      66      50   \n",
       "2302   midsize car                  9.0       90     102      95   \n",
       "\n",
       "      greenhouse_gas_score smartway  \n",
       "1592                   6.0       No  \n",
       "1638                   4.0       No  \n",
       "1823                   4.0       No  \n",
       "2030                  10.0      Yes  \n",
       "2302                  10.0    Elite  "
      ]
     },
     "execution_count": 206,
     "metadata": {},
     "output_type": "execute_result"
    }
   ],
   "source": [
    "new_value.tail()"
   ]
  },
  {
   "cell_type": "code",
   "execution_count": 194,
   "id": "3498b467-ebe2-4ce9-9584-09698abb9729",
   "metadata": {},
   "outputs": [],
   "source": [
    "# Now lets drop the rows with split'/' values in original DATAFRAME of 2014\n",
    "df_14.drop(hy_14.index,inplace=True)"
   ]
  },
  {
   "cell_type": "code",
   "execution_count": 205,
   "id": "a410df06-be1f-410a-8905-28490608504b",
   "metadata": {},
   "outputs": [
    {
     "data": {
      "text/plain": [
       "fuel\n",
       "Gasoline       922\n",
       "Ethanol         28\n",
       "Gas             28\n",
       "Electricity      9\n",
       "Diesel           7\n",
       "CNG              2\n",
       "Name: count, dtype: int64"
      ]
     },
     "execution_count": 205,
     "metadata": {},
     "output_type": "execute_result"
    }
   ],
   "source": [
    "df_14['fuel'].value_counts()"
   ]
  },
  {
   "cell_type": "code",
   "execution_count": 199,
   "id": "ef57dde8-9b8a-408f-9753-2062c5e56c23",
   "metadata": {},
   "outputs": [],
   "source": [
    "df_14 = pd.concat([df_14, new_value], ignore_index=True)"
   ]
  },
  {
   "cell_type": "code",
   "execution_count": 201,
   "id": "62788565-a31e-4b7e-a3c5-03fac22bcddf",
   "metadata": {},
   "outputs": [
    {
     "data": {
      "text/html": [
       "<div>\n",
       "<style scoped>\n",
       "    .dataframe tbody tr th:only-of-type {\n",
       "        vertical-align: middle;\n",
       "    }\n",
       "\n",
       "    .dataframe tbody tr th {\n",
       "        vertical-align: top;\n",
       "    }\n",
       "\n",
       "    .dataframe thead th {\n",
       "        text-align: right;\n",
       "    }\n",
       "</style>\n",
       "<table border=\"1\" class=\"dataframe\">\n",
       "  <thead>\n",
       "    <tr style=\"text-align: right;\">\n",
       "      <th></th>\n",
       "      <th>model</th>\n",
       "      <th>displ</th>\n",
       "      <th>cyl</th>\n",
       "      <th>trans</th>\n",
       "      <th>drive</th>\n",
       "      <th>fuel</th>\n",
       "      <th>veh_class</th>\n",
       "      <th>air_pollution_score</th>\n",
       "      <th>city_mpg</th>\n",
       "      <th>hwy_mpg</th>\n",
       "      <th>cmb_mpg</th>\n",
       "      <th>greenhouse_gas_score</th>\n",
       "      <th>smartway</th>\n",
       "    </tr>\n",
       "  </thead>\n",
       "  <tbody>\n",
       "    <tr>\n",
       "      <th>991</th>\n",
       "      <td>MERCEDES-BENZ E350 Convertible</td>\n",
       "      <td>3.5</td>\n",
       "      <td>6</td>\n",
       "      <td>Auto-7</td>\n",
       "      <td>2WD</td>\n",
       "      <td>Gas</td>\n",
       "      <td>small car</td>\n",
       "      <td>6.0</td>\n",
       "      <td>20</td>\n",
       "      <td>28</td>\n",
       "      <td>23</td>\n",
       "      <td>6.0</td>\n",
       "      <td>No</td>\n",
       "    </tr>\n",
       "    <tr>\n",
       "      <th>992</th>\n",
       "      <td>MERCEDES-BENZ ML350 4Matic</td>\n",
       "      <td>3.5</td>\n",
       "      <td>6</td>\n",
       "      <td>Auto-7</td>\n",
       "      <td>4WD</td>\n",
       "      <td>Gas</td>\n",
       "      <td>standard SUV</td>\n",
       "      <td>6.0</td>\n",
       "      <td>17</td>\n",
       "      <td>22</td>\n",
       "      <td>19</td>\n",
       "      <td>4.0</td>\n",
       "      <td>No</td>\n",
       "    </tr>\n",
       "    <tr>\n",
       "      <th>993</th>\n",
       "      <td>McLAREN P1</td>\n",
       "      <td>3.8</td>\n",
       "      <td>8</td>\n",
       "      <td>Auto-7</td>\n",
       "      <td>2WD</td>\n",
       "      <td>Electricity</td>\n",
       "      <td>small car</td>\n",
       "      <td>5.0</td>\n",
       "      <td>16</td>\n",
       "      <td>21</td>\n",
       "      <td>18</td>\n",
       "      <td>4.0</td>\n",
       "      <td>No</td>\n",
       "    </tr>\n",
       "    <tr>\n",
       "      <th>994</th>\n",
       "      <td>PORSCHE Panamera S E-Hybrid</td>\n",
       "      <td>3.0</td>\n",
       "      <td>6</td>\n",
       "      <td>AMS-8</td>\n",
       "      <td>2WD</td>\n",
       "      <td>Electricity</td>\n",
       "      <td>large car</td>\n",
       "      <td>6.0</td>\n",
       "      <td>42</td>\n",
       "      <td>66</td>\n",
       "      <td>50</td>\n",
       "      <td>10.0</td>\n",
       "      <td>Yes</td>\n",
       "    </tr>\n",
       "    <tr>\n",
       "      <th>995</th>\n",
       "      <td>TOYOTA Prius Plug-in Hybrid</td>\n",
       "      <td>1.8</td>\n",
       "      <td>4</td>\n",
       "      <td>CVT</td>\n",
       "      <td>2WD</td>\n",
       "      <td>Electricity</td>\n",
       "      <td>midsize car</td>\n",
       "      <td>9.0</td>\n",
       "      <td>90</td>\n",
       "      <td>102</td>\n",
       "      <td>95</td>\n",
       "      <td>10.0</td>\n",
       "      <td>Elite</td>\n",
       "    </tr>\n",
       "  </tbody>\n",
       "</table>\n",
       "</div>"
      ],
      "text/plain": [
       "                              model  displ  cyl   trans drive         fuel  \\\n",
       "991  MERCEDES-BENZ E350 Convertible    3.5    6  Auto-7   2WD          Gas   \n",
       "992      MERCEDES-BENZ ML350 4Matic    3.5    6  Auto-7   4WD          Gas   \n",
       "993                      McLAREN P1    3.8    8  Auto-7   2WD  Electricity   \n",
       "994     PORSCHE Panamera S E-Hybrid    3.0    6   AMS-8   2WD  Electricity   \n",
       "995     TOYOTA Prius Plug-in Hybrid    1.8    4     CVT   2WD  Electricity   \n",
       "\n",
       "        veh_class  air_pollution_score city_mpg hwy_mpg cmb_mpg  \\\n",
       "991     small car                  6.0       20      28      23   \n",
       "992  standard SUV                  6.0       17      22      19   \n",
       "993     small car                  5.0       16      21      18   \n",
       "994     large car                  6.0       42      66      50   \n",
       "995   midsize car                  9.0       90     102      95   \n",
       "\n",
       "     greenhouse_gas_score smartway  \n",
       "991                   6.0       No  \n",
       "992                   4.0       No  \n",
       "993                   4.0       No  \n",
       "994                  10.0      Yes  \n",
       "995                  10.0    Elite  "
      ]
     },
     "execution_count": 201,
     "metadata": {},
     "output_type": "execute_result"
    }
   ],
   "source": [
    "df_14.tail()\n"
   ]
  },
  {
   "cell_type": "code",
   "execution_count": 202,
   "id": "9e190907-b210-4ff1-bc29-28d612326184",
   "metadata": {},
   "outputs": [],
   "source": [
    "# lets do same for 2024 dataset\n"
   ]
  },
  {
   "cell_type": "code",
   "execution_count": 204,
   "id": "ee65cdd8-0a08-4eef-80ca-2fcd6d1b1945",
   "metadata": {},
   "outputs": [],
   "source": [
    "df3=hy_24.copy()\n",
    "df4=hy_24.copy()"
   ]
  },
  {
   "cell_type": "code",
   "execution_count": 207,
   "id": "78e03668-07bb-4263-86f0-770c6590dc1c",
   "metadata": {},
   "outputs": [],
   "source": [
    "split_columns=['city_mpg','hwy_mpg','cmb_mpg','fuel']\n",
    "for i in split_columns:\n",
    "    df3[i]=df3[i].apply(lambda x:x.split('/')[0])\n",
    "    df4[i]=df4[i].apply(lambda x:x.split('/')[1])\n",
    "    "
   ]
  },
  {
   "cell_type": "code",
   "execution_count": 420,
   "id": "c87ed984-322a-4542-bce3-81be37b64adc",
   "metadata": {},
   "outputs": [],
   "source": [
    "new_row=pd.concat([df3,df4])"
   ]
  },
  {
   "cell_type": "code",
   "execution_count": 419,
   "id": "f951f512-52fa-40ce-913f-1f643a5393ef",
   "metadata": {},
   "outputs": [
    {
     "data": {
      "text/html": [
       "<div>\n",
       "<style scoped>\n",
       "    .dataframe tbody tr th:only-of-type {\n",
       "        vertical-align: middle;\n",
       "    }\n",
       "\n",
       "    .dataframe tbody tr th {\n",
       "        vertical-align: top;\n",
       "    }\n",
       "\n",
       "    .dataframe thead th {\n",
       "        text-align: right;\n",
       "    }\n",
       "</style>\n",
       "<table border=\"1\" class=\"dataframe\">\n",
       "  <thead>\n",
       "    <tr style=\"text-align: right;\">\n",
       "      <th></th>\n",
       "      <th>model</th>\n",
       "      <th>displ</th>\n",
       "      <th>cyl</th>\n",
       "      <th>trans</th>\n",
       "      <th>drive</th>\n",
       "      <th>fuel</th>\n",
       "      <th>veh_class</th>\n",
       "      <th>air_pollution_score</th>\n",
       "      <th>city_mpg</th>\n",
       "      <th>hwy_mpg</th>\n",
       "      <th>cmb_mpg</th>\n",
       "      <th>greenhouse_gas_score</th>\n",
       "      <th>smartway</th>\n",
       "    </tr>\n",
       "  </thead>\n",
       "  <tbody>\n",
       "    <tr>\n",
       "      <th>36</th>\n",
       "      <td>ALFA ROMEO Tonale eAWD</td>\n",
       "      <td>1.3</td>\n",
       "      <td>4</td>\n",
       "      <td>Auto-6</td>\n",
       "      <td>4WD</td>\n",
       "      <td>Gasoline</td>\n",
       "      <td>small SUV</td>\n",
       "      <td>6</td>\n",
       "      <td>29</td>\n",
       "      <td>29</td>\n",
       "      <td>29</td>\n",
       "      <td>9</td>\n",
       "      <td>No</td>\n",
       "    </tr>\n",
       "    <tr>\n",
       "      <th>84</th>\n",
       "      <td>AUDI Q5 Plug-In Hybrid quattro</td>\n",
       "      <td>2.0</td>\n",
       "      <td>4</td>\n",
       "      <td>AMS-7</td>\n",
       "      <td>4WD</td>\n",
       "      <td>Gasoline</td>\n",
       "      <td>small SUV</td>\n",
       "      <td>7</td>\n",
       "      <td>25</td>\n",
       "      <td>27</td>\n",
       "      <td>26</td>\n",
       "      <td>9</td>\n",
       "      <td>Yes</td>\n",
       "    </tr>\n",
       "    <tr>\n",
       "      <th>156</th>\n",
       "      <td>BENTLEY Bentayga Hybrid</td>\n",
       "      <td>3.0</td>\n",
       "      <td>6</td>\n",
       "      <td>SemiAuto-8</td>\n",
       "      <td>4WD</td>\n",
       "      <td>Gasoline</td>\n",
       "      <td>standard SUV</td>\n",
       "      <td>3</td>\n",
       "      <td>19</td>\n",
       "      <td>23</td>\n",
       "      <td>21</td>\n",
       "      <td>8</td>\n",
       "      <td>No</td>\n",
       "    </tr>\n",
       "    <tr>\n",
       "      <th>170</th>\n",
       "      <td>BENTLEY Flying Spur Hybrid</td>\n",
       "      <td>2.9</td>\n",
       "      <td>6</td>\n",
       "      <td>AMS-8</td>\n",
       "      <td>4WD</td>\n",
       "      <td>Gasoline</td>\n",
       "      <td>midsize car</td>\n",
       "      <td>5</td>\n",
       "      <td>17</td>\n",
       "      <td>22</td>\n",
       "      <td>19</td>\n",
       "      <td>7</td>\n",
       "      <td>No</td>\n",
       "    </tr>\n",
       "    <tr>\n",
       "      <th>182</th>\n",
       "      <td>BMW 330e</td>\n",
       "      <td>2.0</td>\n",
       "      <td>4</td>\n",
       "      <td>SemiAuto-8</td>\n",
       "      <td>2WD</td>\n",
       "      <td>Gasoline</td>\n",
       "      <td>small car</td>\n",
       "      <td>7</td>\n",
       "      <td>24</td>\n",
       "      <td>32</td>\n",
       "      <td>27</td>\n",
       "      <td>8</td>\n",
       "      <td>Yes</td>\n",
       "    </tr>\n",
       "    <tr>\n",
       "      <th>...</th>\n",
       "      <td>...</td>\n",
       "      <td>...</td>\n",
       "      <td>...</td>\n",
       "      <td>...</td>\n",
       "      <td>...</td>\n",
       "      <td>...</td>\n",
       "      <td>...</td>\n",
       "      <td>...</td>\n",
       "      <td>...</td>\n",
       "      <td>...</td>\n",
       "      <td>...</td>\n",
       "      <td>...</td>\n",
       "      <td>...</td>\n",
       "    </tr>\n",
       "    <tr>\n",
       "      <th>2420</th>\n",
       "      <td>VOLVO S60 T8 Recharge</td>\n",
       "      <td>2.0</td>\n",
       "      <td>4</td>\n",
       "      <td>SemiAuto-8</td>\n",
       "      <td>4WD</td>\n",
       "      <td>Electricity</td>\n",
       "      <td>small car</td>\n",
       "      <td>7</td>\n",
       "      <td>74</td>\n",
       "      <td>73</td>\n",
       "      <td>74</td>\n",
       "      <td>9</td>\n",
       "      <td>Yes</td>\n",
       "    </tr>\n",
       "    <tr>\n",
       "      <th>2424</th>\n",
       "      <td>VOLVO S90 T8 Recharge</td>\n",
       "      <td>2.0</td>\n",
       "      <td>4</td>\n",
       "      <td>SemiAuto-8</td>\n",
       "      <td>4WD</td>\n",
       "      <td>Electricity</td>\n",
       "      <td>midsize car</td>\n",
       "      <td>7</td>\n",
       "      <td>66</td>\n",
       "      <td>67</td>\n",
       "      <td>66</td>\n",
       "      <td>9</td>\n",
       "      <td>Yes</td>\n",
       "    </tr>\n",
       "    <tr>\n",
       "      <th>2426</th>\n",
       "      <td>VOLVO V60 T8 Recharge</td>\n",
       "      <td>2.0</td>\n",
       "      <td>4</td>\n",
       "      <td>SemiAuto-8</td>\n",
       "      <td>4WD</td>\n",
       "      <td>Electricity</td>\n",
       "      <td>station wagon</td>\n",
       "      <td>7</td>\n",
       "      <td>74</td>\n",
       "      <td>73</td>\n",
       "      <td>74</td>\n",
       "      <td>9</td>\n",
       "      <td>Yes</td>\n",
       "    </tr>\n",
       "    <tr>\n",
       "      <th>2440</th>\n",
       "      <td>VOLVO XC60 T8 Recharge</td>\n",
       "      <td>2.0</td>\n",
       "      <td>4</td>\n",
       "      <td>SemiAuto-8</td>\n",
       "      <td>4WD</td>\n",
       "      <td>Electricity</td>\n",
       "      <td>small SUV</td>\n",
       "      <td>7</td>\n",
       "      <td>66</td>\n",
       "      <td>60</td>\n",
       "      <td>63</td>\n",
       "      <td>9</td>\n",
       "      <td>Yes</td>\n",
       "    </tr>\n",
       "    <tr>\n",
       "      <th>2446</th>\n",
       "      <td>VOLVO XC90 T8 Recharge</td>\n",
       "      <td>2.0</td>\n",
       "      <td>4</td>\n",
       "      <td>SemiAuto-8</td>\n",
       "      <td>4WD</td>\n",
       "      <td>Electricity</td>\n",
       "      <td>standard SUV</td>\n",
       "      <td>7</td>\n",
       "      <td>59</td>\n",
       "      <td>57</td>\n",
       "      <td>58</td>\n",
       "      <td>9</td>\n",
       "      <td>Yes</td>\n",
       "    </tr>\n",
       "  </tbody>\n",
       "</table>\n",
       "<p>104 rows × 13 columns</p>\n",
       "</div>"
      ],
      "text/plain": [
       "                               model  displ  cyl       trans drive  \\\n",
       "36            ALFA ROMEO Tonale eAWD    1.3    4      Auto-6   4WD   \n",
       "84    AUDI Q5 Plug-In Hybrid quattro    2.0    4       AMS-7   4WD   \n",
       "156          BENTLEY Bentayga Hybrid    3.0    6  SemiAuto-8   4WD   \n",
       "170       BENTLEY Flying Spur Hybrid    2.9    6       AMS-8   4WD   \n",
       "182                         BMW 330e    2.0    4  SemiAuto-8   2WD   \n",
       "...                              ...    ...  ...         ...   ...   \n",
       "2420           VOLVO S60 T8 Recharge    2.0    4  SemiAuto-8   4WD   \n",
       "2424           VOLVO S90 T8 Recharge    2.0    4  SemiAuto-8   4WD   \n",
       "2426           VOLVO V60 T8 Recharge    2.0    4  SemiAuto-8   4WD   \n",
       "2440          VOLVO XC60 T8 Recharge    2.0    4  SemiAuto-8   4WD   \n",
       "2446          VOLVO XC90 T8 Recharge    2.0    4  SemiAuto-8   4WD   \n",
       "\n",
       "             fuel      veh_class  air_pollution_score city_mpg hwy_mpg  \\\n",
       "36       Gasoline      small SUV                    6       29      29   \n",
       "84       Gasoline      small SUV                    7       25      27   \n",
       "156      Gasoline   standard SUV                    3       19      23   \n",
       "170      Gasoline    midsize car                    5       17      22   \n",
       "182      Gasoline      small car                    7       24      32   \n",
       "...           ...            ...                  ...      ...     ...   \n",
       "2420  Electricity      small car                    7       74      73   \n",
       "2424  Electricity    midsize car                    7       66      67   \n",
       "2426  Electricity  station wagon                    7       74      73   \n",
       "2440  Electricity      small SUV                    7       66      60   \n",
       "2446  Electricity   standard SUV                    7       59      57   \n",
       "\n",
       "     cmb_mpg  greenhouse_gas_score smartway  \n",
       "36        29                     9       No  \n",
       "84        26                     9      Yes  \n",
       "156       21                     8       No  \n",
       "170       19                     7       No  \n",
       "182       27                     8      Yes  \n",
       "...      ...                   ...      ...  \n",
       "2420      74                     9      Yes  \n",
       "2424      66                     9      Yes  \n",
       "2426      74                     9      Yes  \n",
       "2440      63                     9      Yes  \n",
       "2446      58                     9      Yes  \n",
       "\n",
       "[104 rows x 13 columns]"
      ]
     },
     "execution_count": 419,
     "metadata": {},
     "output_type": "execute_result"
    }
   ],
   "source": [
    "new_row"
   ]
  },
  {
   "cell_type": "code",
   "execution_count": null,
   "id": "05df1666-de6a-472e-ae62-0dff4f999a76",
   "metadata": {},
   "outputs": [],
   "source": [
    "df_24.drop(hy_24.index,inplace=True)"
   ]
  },
  {
   "cell_type": "code",
   "execution_count": 240,
   "id": "3521fec4-a3b4-40d1-b80b-5c23dd7103e9",
   "metadata": {},
   "outputs": [],
   "source": [
    "df_24 = pd.concat([df_24, new_row], ignore_index=True)"
   ]
  },
  {
   "cell_type": "code",
   "execution_count": 241,
   "id": "0e0af05c-c7f3-40a4-88bd-4d6ba3a71aec",
   "metadata": {},
   "outputs": [
    {
     "data": {
      "text/plain": [
       "(1035, 13)"
      ]
     },
     "execution_count": 241,
     "metadata": {},
     "output_type": "execute_result"
    }
   ],
   "source": [
    "df_24.shape"
   ]
  },
  {
   "cell_type": "code",
   "execution_count": 242,
   "id": "5af6eac8-fae8-4c97-84c4-213b154edf6c",
   "metadata": {},
   "outputs": [
    {
     "data": {
      "text/plain": [
       "fuel\n",
       "Gasoline       957\n",
       "Electricity     45\n",
       "Diesel          19\n",
       "Ethanol          7\n",
       "Gas              7\n",
       "Name: count, dtype: int64"
      ]
     },
     "execution_count": 242,
     "metadata": {},
     "output_type": "execute_result"
    }
   ],
   "source": [
    "df_24['fuel'].value_counts()"
   ]
  },
  {
   "cell_type": "code",
   "execution_count": 244,
   "id": "6bb86103-6d4a-4430-9517-5199117e960d",
   "metadata": {},
   "outputs": [],
   "source": [
    "# Now lets convert our columns to float('city_mpg','hwy_mpg','cmb_mpg')\n",
    "j=['city_mpg','hwy_mpg','cmb_mpg']\n",
    "for i in j:\n",
    "    df_14[i]=df_14[i].astype('float')\n",
    "    df_24[i]=df_24[i].astype('float')"
   ]
  },
  {
   "cell_type": "code",
   "execution_count": 245,
   "id": "77245a3d-0bc9-4c1a-aa50-219349fcd59a",
   "metadata": {},
   "outputs": [
    {
     "name": "stdout",
     "output_type": "stream",
     "text": [
      "<class 'pandas.core.frame.DataFrame'>\n",
      "RangeIndex: 996 entries, 0 to 995\n",
      "Data columns (total 13 columns):\n",
      " #   Column                Non-Null Count  Dtype  \n",
      "---  ------                --------------  -----  \n",
      " 0   model                 996 non-null    object \n",
      " 1   displ                 996 non-null    float64\n",
      " 2   cyl                   996 non-null    int64  \n",
      " 3   trans                 996 non-null    object \n",
      " 4   drive                 996 non-null    object \n",
      " 5   fuel                  996 non-null    object \n",
      " 6   veh_class             996 non-null    object \n",
      " 7   air_pollution_score   996 non-null    float64\n",
      " 8   city_mpg              996 non-null    float64\n",
      " 9   hwy_mpg               996 non-null    float64\n",
      " 10  cmb_mpg               996 non-null    float64\n",
      " 11  greenhouse_gas_score  996 non-null    float64\n",
      " 12  smartway              996 non-null    object \n",
      "dtypes: float64(6), int64(1), object(6)\n",
      "memory usage: 101.3+ KB\n"
     ]
    }
   ],
   "source": [
    "df_14.info()"
   ]
  },
  {
   "cell_type": "code",
   "execution_count": 258,
   "id": "0776f29e-d3b9-4fc0-8d4e-a96d53d36435",
   "metadata": {},
   "outputs": [
    {
     "name": "stdout",
     "output_type": "stream",
     "text": [
      "<class 'pandas.core.frame.DataFrame'>\n",
      "RangeIndex: 1035 entries, 0 to 1034\n",
      "Data columns (total 13 columns):\n",
      " #   Column                Non-Null Count  Dtype  \n",
      "---  ------                --------------  -----  \n",
      " 0   model                 1035 non-null   object \n",
      " 1   displ                 1035 non-null   float64\n",
      " 2   cyl                   1035 non-null   int64  \n",
      " 3   trans                 1035 non-null   object \n",
      " 4   drive                 1035 non-null   object \n",
      " 5   fuel                  1035 non-null   object \n",
      " 6   veh_class             1035 non-null   object \n",
      " 7   air_pollution_score   1035 non-null   float64\n",
      " 8   city_mpg              1035 non-null   float64\n",
      " 9   hwy_mpg               1035 non-null   float64\n",
      " 10  cmb_mpg               1035 non-null   float64\n",
      " 11  greenhouse_gas_score  1035 non-null   int64  \n",
      " 12  smartway              1035 non-null   object \n",
      "dtypes: float64(5), int64(2), object(6)\n",
      "memory usage: 105.2+ KB\n"
     ]
    }
   ],
   "source": [
    "df_24.info()"
   ]
  },
  {
   "cell_type": "code",
   "execution_count": 260,
   "id": "6915e31c-a367-4fae-90d8-1c5eb14dde4f",
   "metadata": {},
   "outputs": [
    {
     "data": {
      "text/plain": [
       "True"
      ]
     },
     "execution_count": 260,
     "metadata": {},
     "output_type": "execute_result"
    }
   ],
   "source": [
    "(df_14.dtypes==df_24.dtypes).all()"
   ]
  },
  {
   "cell_type": "markdown",
   "id": "697e19fa-2d8a-46ed-a5f1-c26eaa0706f7",
   "metadata": {},
   "source": [
    "<font size='4'> Now our data is clean lets move to visualization."
   ]
  },
  {
   "cell_type": "markdown",
   "id": "e894bec4-1dd3-4e56-aff7-caf93d28fd75",
   "metadata": {},
   "source": [
    "**<h3> EXPLORING WITH VISUALS <h3>**"
   ]
  },
  {
   "cell_type": "markdown",
   "id": "80a0dc81-8f45-42a7-ad82-092b58c8f6f2",
   "metadata": {},
   "source": [
    "<font size='4'> Compare the Distributions of greenhouse gas score in 2014 and 2024"
   ]
  },
  {
   "cell_type": "code",
   "execution_count": 269,
   "id": "70209555-c6c7-464a-ac5e-06951e01ae3a",
   "metadata": {},
   "outputs": [
    {
     "name": "stdout",
     "output_type": "stream",
     "text": [
      "The history saving thread hit an unexpected error (OperationalError('attempt to write a readonly database')).History will not be written to the database.\n"
     ]
    },
    {
     "data": {
      "text/plain": [
       "<Axes: >"
      ]
     },
     "execution_count": 269,
     "metadata": {},
     "output_type": "execute_result"
    },
    {
     "data": {
      "image/png": "[encoded data removed]",
      "text/plain": [
       "<Figure size 640x480 with 1 Axes>"
      ]
     },
     "metadata": {},
     "output_type": "display_data"
    }
   ],
   "source": [
    "#greenhouse gas score for 2014\n",
    "df_14['greenhouse_gas_score'].hist()"
   ]
  },
  {
   "cell_type": "code",
   "execution_count": 270,
   "id": "98f3d65d-3c72-4f35-9366-b489d60cada5",
   "metadata": {},
   "outputs": [
    {
     "data": {
      "text/plain": [
       "<Axes: >"
      ]
     },
     "execution_count": 270,
     "metadata": {},
     "output_type": "execute_result"
    },
    {
     "data": {
      "image/png": "[encoded data removed]",
      "text/plain": [
       "<Figure size 640x480 with 1 Axes>"
      ]
     },
     "metadata": {},
     "output_type": "display_data"
    }
   ],
   "source": [
    "#greenhouse gas score for 2024\n",
    "df_24['greenhouse_gas_score'].hist()"
   ]
  },
  {
   "cell_type": "code",
   "execution_count": 284,
   "id": "a8f1bbcd-f0d2-4fae-a561-1d07b4c56a1c",
   "metadata": {},
   "outputs": [
    {
     "name": "stderr",
     "output_type": "stream",
     "text": [
      "/var/folders/zk/r0t9kfd15wn1vd9h8c04twc00000gn/T/ipykernel_28052/3084026743.py:1: FutureWarning: \n",
      "\n",
      "`shade` is now deprecated in favor of `fill`; setting `fill=True`.\n",
      "This will become an error in seaborn v0.14.0; please update your code.\n",
      "\n",
      "  sns.kdeplot(df_14['greenhouse_gas_score'], shade=True, color='red')\n"
     ]
    },
    {
     "data": {
      "text/plain": [
       "Text(0, 0.5, 'Density')"
      ]
     },
     "execution_count": 284,
     "metadata": {},
     "output_type": "execute_result"
    },
    {
     "data": {
      "image/png": "[encoded data removed]",
      "text/plain": [
       "<Figure size 640x480 with 1 Axes>"
      ]
     },
     "metadata": {},
     "output_type": "display_data"
    }
   ],
   "source": [
    "sns.kdeplot(df_14['greenhouse_gas_score'], shade=True, color='red')\n",
    "plt.title('Kernel Density Estimate (KDE) of Greenhouse Gas Scores')\n",
    "plt.xlabel('Greenhouse Gas Score')\n",
    "plt.ylabel('Density')"
   ]
  },
  {
   "cell_type": "code",
   "execution_count": 282,
   "id": "b22dbe01-b5cd-4ca5-b3e0-9bd5e5de430f",
   "metadata": {},
   "outputs": [
    {
     "data": {
      "text/plain": [
       "Text(0, 0.5, 'Density')"
      ]
     },
     "execution_count": 282,
     "metadata": {},
     "output_type": "execute_result"
    },
    {
     "data": {
      "image/png": "[encoded data removed]",
      "text/plain": [
       "<Figure size 640x480 with 1 Axes>"
      ]
     },
     "metadata": {},
     "output_type": "display_data"
    }
   ],
   "source": [
    "sns.kdeplot(df_24['greenhouse_gas_score'], fill=True, color='red')\n",
    "plt.title('Kernel Density Estimate (KDE) of Greenhouse Gas Scores')\n",
    "plt.xlabel('Greenhouse Gas Score')\n",
    "plt.ylabel('Density')"
   ]
  },
  {
   "cell_type": "code",
   "execution_count": 298,
   "id": "e76c2538-5a6c-4c42-887d-555d95d23ca2",
   "metadata": {},
   "outputs": [
    {
     "data": {
      "text/plain": [
       "(1035, 996)"
      ]
     },
     "execution_count": 298,
     "metadata": {},
     "output_type": "execute_result"
    }
   ],
   "source": [
    "len(df_24['greenhouse_gas_score']),len(df_14['greenhouse_gas_score'])"
   ]
  },
  {
   "cell_type": "markdown",
   "id": "e9af8237-e2fe-4190-8ca2-0f32aef52ba3",
   "metadata": {},
   "source": [
    "<h3>Correlation Between displacement('displ') & Combined mpg('cmb_mpg')</h3> "
   ]
  },
  {
   "cell_type": "code",
   "execution_count": 304,
   "id": "7e186b25-8d30-417d-b804-9e4d7a97afe9",
   "metadata": {},
   "outputs": [
    {
     "data": {
      "text/plain": [
       "<Axes: xlabel='displ', ylabel='cmb_mpg'>"
      ]
     },
     "execution_count": 304,
     "metadata": {},
     "output_type": "execute_result"
    },
    {
     "data": {
      "image/png": "[encoded data removed]",
      "text/plain": [
       "<Figure size 640x480 with 1 Axes>"
      ]
     },
     "metadata": {},
     "output_type": "display_data"
    }
   ],
   "source": [
    "# scatter plot\n",
    "df_14.plot(x='displ',y='cmb_mpg',kind='scatter')"
   ]
  },
  {
   "cell_type": "code",
   "execution_count": 310,
   "id": "66a7c931-9973-4e63-b73e-52f6ac8011ae",
   "metadata": {},
   "outputs": [
    {
     "data": {
      "text/plain": [
       "<Axes: xlabel='displ', ylabel='cmb_mpg'>"
      ]
     },
     "execution_count": 310,
     "metadata": {},
     "output_type": "execute_result"
    },
    {
     "data": {
      "image/png": "[encoded data removed]",
      "text/plain": [
       "<Figure size 640x480 with 1 Axes>"
      ]
     },
     "metadata": {},
     "output_type": "display_data"
    }
   ],
   "source": [
    "df_24.plot(x='displ',y='cmb_mpg',kind='scatter')"
   ]
  },
  {
   "cell_type": "markdown",
   "id": "0907bec1-adb4-4328-9e09-65d2d24bf9df",
   "metadata": {},
   "source": [
    "<font size='4'> By above scatter plot for both dataset we can say that there is negative correlation. The **higher** the \n",
    "engine displacement,the **lower** the combined (city/highway) fuel economy in miles per gallon."
   ]
  },
  {
   "cell_type": "markdown",
   "id": "54298998-9048-42a6-98f9-8fc2b2c96536",
   "metadata": {},
   "source": [
    "<h3> Correlation between greenhouse gas score and combined mpg</h3>"
   ]
  },
  {
   "cell_type": "code",
   "execution_count": 311,
   "id": "0779e608-a1ad-4e5e-9437-83b5ee9c3a56",
   "metadata": {},
   "outputs": [
    {
     "data": {
      "text/plain": [
       "<Axes: xlabel='greenhouse_gas_score', ylabel='cmb_mpg'>"
      ]
     },
     "execution_count": 311,
     "metadata": {},
     "output_type": "execute_result"
    },
    {
     "data": {
      "image/png": "[encoded data removed]",
      "text/plain": [
       "<Figure size 640x480 with 1 Axes>"
      ]
     },
     "metadata": {},
     "output_type": "display_data"
    }
   ],
   "source": [
    "#scatter plot\n",
    "df_14.plot(x='greenhouse_gas_score',y='cmb_mpg',kind='scatter')"
   ]
  },
  {
   "cell_type": "code",
   "execution_count": 312,
   "id": "c9b32cde-cae2-4ab1-9185-38d7cecd1937",
   "metadata": {},
   "outputs": [
    {
     "data": {
      "text/plain": [
       "<Axes: xlabel='greenhouse_gas_score', ylabel='cmb_mpg'>"
      ]
     },
     "execution_count": 312,
     "metadata": {},
     "output_type": "execute_result"
    },
    {
     "data": {
      "image/png": "[encoded data removed]",
      "text/plain": [
       "<Figure size 640x480 with 1 Axes>"
      ]
     },
     "metadata": {},
     "output_type": "display_data"
    }
   ],
   "source": [
    "df_24.plot(x='greenhouse_gas_score',y='cmb_mpg',kind='scatter')"
   ]
  },
  {
   "cell_type": "markdown",
   "id": "0480ef4b-e211-4175-b318-ce66b84c9166",
   "metadata": {},
   "source": [
    "<font size='4'> By above scatter plots we can say that there is **positive** correlation between greenhouse gas score and combined mpg.<br>\n",
    "So with **higher** the greenhouse score rating,**higher** the cmb_mpg."
   ]
  },
  {
   "cell_type": "code",
   "execution_count": 323,
   "id": "962e04e9-4774-4070-af2a-4076f0119423",
   "metadata": {},
   "outputs": [
    {
     "data": {
      "image/png": "[encoded data removed]",
      "text/plain": [
       "<Figure size 800x600 with 2 Axes>"
      ]
     },
     "metadata": {},
     "output_type": "display_data"
    }
   ],
   "source": [
    "numeric_df14=df_14.select_dtypes(['int','float'])\n",
    "plt.figure(figsize=(8,6))\n",
    "sns.heatmap(data=numeric_df14.corr(),annot=True,cmap='coolwarm')\n",
    "plt.title('Correlation Matrix for 2014')\n",
    "plt.show()"
   ]
  },
  {
   "cell_type": "code",
   "execution_count": 326,
   "id": "792de5bb-2643-4c8e-ad7b-e05ecd82a86e",
   "metadata": {},
   "outputs": [
    {
     "data": {
      "image/png": "[encoded data removed]",
      "text/plain": [
       "<Figure size 800x600 with 2 Axes>"
      ]
     },
     "metadata": {},
     "output_type": "display_data"
    }
   ],
   "source": [
    "numeric_df24=df_24.select_dtypes([int,float])\n",
    "plt.figure(figsize=(8,6))\n",
    "sns.heatmap(data=numeric_df24.corr(),annot=True,cmap='coolwarm')\n",
    "plt.title('Correlation Matrix for 2024')\n",
    "plt.show()"
   ]
  },
  {
   "cell_type": "markdown",
   "id": "c6f072b3-d4af-4ade-8c5d-b9759f23b5b8",
   "metadata": {},
   "source": [
    "<h2> Drawing Conclusions</h2>"
   ]
  },
  {
   "cell_type": "markdown",
   "id": "65b40694-f174-4864-97fb-4820f9a65ee6",
   "metadata": {},
   "source": [
    "<font size='4'>Q1: Are more unique models using alternative sources of fuel? By how much?"
   ]
  },
  {
   "cell_type": "code",
   "execution_count": 391,
   "id": "a7eb9c8b-8b0f-45c2-86fd-94610f06631b",
   "metadata": {},
   "outputs": [
    {
     "data": {
      "text/plain": [
       "fuel\n",
       "Gasoline       922\n",
       "Ethanol         28\n",
       "Gas             28\n",
       "Electricity      9\n",
       "Diesel           7\n",
       "CNG              2\n",
       "Name: count, dtype: int64"
      ]
     },
     "execution_count": 391,
     "metadata": {},
     "output_type": "execute_result"
    }
   ],
   "source": [
    "# Get number of fuel sources counts for 2014\n",
    "df_14['fuel'].value_counts()"
   ]
  },
  {
   "cell_type": "code",
   "execution_count": 392,
   "id": "78ff070f-c8b5-4c1d-b26a-0163ce9d0fe5",
   "metadata": {},
   "outputs": [
    {
     "data": {
      "text/plain": [
       "fuel\n",
       "Gasoline       957\n",
       "Electricity     45\n",
       "Diesel          19\n",
       "Ethanol          7\n",
       "Gas              7\n",
       "Name: count, dtype: int64"
      ]
     },
     "execution_count": 392,
     "metadata": {},
     "output_type": "execute_result"
    }
   ],
   "source": [
    "# Get number of fuel sources counts for 2024\n",
    "df_24['fuel'].value_counts()"
   ]
  },
  {
   "cell_type": "markdown",
   "id": "b1f0bc02-f2f0-4b54-875d-33a30c25c42c",
   "metadata": {},
   "source": [
    "<font size='3'>Looks like the alternative sources of fuel available in 2014 is Ethanol,Electricity and CNG.For 2024 alternative source is Ethanol and Electricity.([Based on Alternative Fuel Data Center](https://afdc.energy.gov/fuels))"
   ]
  },
  {
   "cell_type": "code",
   "execution_count": 393,
   "id": "e6b63243-2aa0-4bcc-9872-18611c78160c",
   "metadata": {},
   "outputs": [],
   "source": [
    "#getting unique models that uses alternative fuel for 2014 dataset\n",
    "alt_14=df_14['model'].loc[df_14['fuel'].isin(['Ethanol', 'Electricity', 'CNG'])].nunique()"
   ]
  },
  {
   "cell_type": "code",
   "execution_count": 394,
   "id": "f208b4e2-db8c-43f6-b2fc-5f432afcb76a",
   "metadata": {},
   "outputs": [
    {
     "data": {
      "text/plain": [
       "33"
      ]
     },
     "execution_count": 394,
     "metadata": {},
     "output_type": "execute_result"
    }
   ],
   "source": [
    "alt_14"
   ]
  },
  {
   "cell_type": "code",
   "execution_count": 395,
   "id": "f2143545-1071-411f-8855-7a59ad681188",
   "metadata": {},
   "outputs": [],
   "source": [
    "#getting unique models that uses alternative fuel for 2024 dataset\n",
    "alt_24=df_24['model'].loc[df_24['fuel'].isin(['Ethanol', 'Electricity'])].nunique()"
   ]
  },
  {
   "cell_type": "code",
   "execution_count": 396,
   "id": "5d3e0241-8d56-4727-ad06-837209727bc0",
   "metadata": {},
   "outputs": [
    {
     "data": {
      "text/plain": [
       "49"
      ]
     },
     "execution_count": 396,
     "metadata": {},
     "output_type": "execute_result"
    }
   ],
   "source": [
    "alt_24"
   ]
  },
  {
   "cell_type": "code",
   "execution_count": 397,
   "id": "1e992946-a878-4c0f-a353-bc3ba21a46b4",
   "metadata": {},
   "outputs": [
    {
     "data": {
      "text/plain": [
       "Text(0, 0.5, 'Number of Unique Models')"
      ]
     },
     "execution_count": 397,
     "metadata": {},
     "output_type": "execute_result"
    },
    {
     "data": {
      "image/png": "[encoded data removed]",
      "text/plain": [
       "<Figure size 640x480 with 1 Axes>"
      ]
     },
     "metadata": {},
     "output_type": "display_data"
    }
   ],
   "source": [
    "# Plotting bar chart\n",
    "plt.bar([\"2014\", \"2024\"], [alt_14, alt_24])\n",
    "plt.title(\"Barchat of Number of Unique Models Using Alternative Fuels\")\n",
    "plt.xlabel(\"Year\")\n",
    "plt.ylabel(\"Number of Unique Models\")\n"
   ]
  },
  {
   "cell_type": "markdown",
   "id": "2bc6310a-06f8-49c4-9a22-e851a9b4cb86",
   "metadata": {},
   "source": [
    "<font size='3'>Since 2014, the number of unique models using alternative sources have increased by 33 to 49. From the bar chart, we can also see that their are slightly higher number of unique models using alternative fuels in 2024."
   ]
  },
  {
   "cell_type": "code",
   "execution_count": 398,
   "id": "cd8b2ef8-57e4-46be-afdf-464e759b04dd",
   "metadata": {},
   "outputs": [],
   "source": [
    "# Find the total unique models each year\n",
    "total_14=df_14['model'].nunique()\n",
    "total_24=df_24['model'].nunique()"
   ]
  },
  {
   "cell_type": "code",
   "execution_count": 399,
   "id": "b3fd69ae-ab5a-4075-b2e6-285e5f52e410",
   "metadata": {},
   "outputs": [],
   "source": [
    "# Get proportion of alternative fuel against total unique models\n",
    "prop_14=alt_14/total_14*100\n",
    "prop_24=alt_24/total_24*100"
   ]
  },
  {
   "cell_type": "code",
   "execution_count": 400,
   "id": "df903091-8445-4a43-8575-0865aaf1b8bb",
   "metadata": {},
   "outputs": [
    {
     "data": {
      "text/plain": [
       "(6.976744186046512, 7.877813504823152)"
      ]
     },
     "execution_count": 400,
     "metadata": {},
     "output_type": "execute_result"
    }
   ],
   "source": [
    "prop_14,prop_24"
   ]
  },
  {
   "cell_type": "code",
   "execution_count": 401,
   "id": "51db2773-7f12-40d3-ab1a-26ebeb6c0d9e",
   "metadata": {},
   "outputs": [
    {
     "data": {
      "text/plain": [
       "Text(0, 0.5, 'Number of Unique Models')"
      ]
     },
     "execution_count": 401,
     "metadata": {},
     "output_type": "execute_result"
    },
    {
     "data": {
      "image/png": "[encoded data removed]",
      "text/plain": [
       "<Figure size 700x400 with 1 Axes>"
      ]
     },
     "metadata": {},
     "output_type": "display_data"
    }
   ],
   "source": [
    "# ploting bar chart\n",
    "plt.figure(figsize=(7,4))\n",
    "plt.bar(['2014','2024'],[prop_14,prop_24])\n",
    "plt.title(\"Barchart of Proportion of Unique Models Using Alternative Fuels\")\n",
    "plt.xlabel(\"Year\")\n",
    "plt.ylabel(\"Number of Unique Models\")"
   ]
  },
  {
   "cell_type": "markdown",
   "id": "5887eb94-11d9-48e5-a942-fff5d49fec71",
   "metadata": {},
   "source": [
    "<font size='4'>Q2: How much have vehicle classes improved in fuel economy?"
   ]
  },
  {
   "cell_type": "code",
   "execution_count": 404,
   "id": "77b15577-0c37-4de2-9d77-41e95737610e",
   "metadata": {},
   "outputs": [
    {
     "data": {
      "text/plain": [
       "veh_class\n",
       "small car          417\n",
       "midsize car        198\n",
       "small SUV          144\n",
       "large car           87\n",
       "standard SUV        72\n",
       "station wagon       36\n",
       "pickup              26\n",
       "special purpose      7\n",
       "minivan              7\n",
       "van                  2\n",
       "Name: count, dtype: int64"
      ]
     },
     "execution_count": 404,
     "metadata": {},
     "output_type": "execute_result"
    }
   ],
   "source": [
    "df_14['veh_class'].value_counts()"
   ]
  },
  {
   "cell_type": "code",
   "execution_count": 405,
   "id": "fb78a64c-72fc-40b4-a511-aa8db7fc91ef",
   "metadata": {},
   "outputs": [
    {
     "data": {
      "text/plain": [
       "veh_class\n",
       "small car          267\n",
       "small SUV          256\n",
       "standard SUV       192\n",
       "midsize car        116\n",
       "pickup             116\n",
       "large car           48\n",
       "station wagon       23\n",
       "minivan              9\n",
       "special purpose      8\n",
       "Name: count, dtype: int64"
      ]
     },
     "execution_count": 405,
     "metadata": {},
     "output_type": "execute_result"
    }
   ],
   "source": [
    "df_24['veh_class'].value_counts()"
   ]
  },
  {
   "cell_type": "code",
   "execution_count": 406,
   "id": "0c6a4342-cc50-40a2-a46f-9e14cf3f18c7",
   "metadata": {},
   "outputs": [],
   "source": [
    "veh_class_14=df_14.groupby('veh_class')['cmb_mpg'].mean()"
   ]
  },
  {
   "cell_type": "code",
   "execution_count": 408,
   "id": "98a1582c-8705-429d-80dd-13ab46f6d336",
   "metadata": {},
   "outputs": [
    {
     "data": {
      "text/plain": [
       "veh_class\n",
       "large car          21.011494\n",
       "midsize car        26.883838\n",
       "minivan            21.571429\n",
       "pickup             17.730769\n",
       "small SUV          22.652778\n",
       "small car          24.657074\n",
       "special purpose    22.428571\n",
       "standard SUV       17.888889\n",
       "station wagon      24.972222\n",
       "van                16.000000\n",
       "Name: cmb_mpg, dtype: float64"
      ]
     },
     "execution_count": 408,
     "metadata": {},
     "output_type": "execute_result"
    }
   ],
   "source": [
    "veh_class_14"
   ]
  },
  {
   "cell_type": "code",
   "execution_count": 409,
   "id": "22c786fe-e1bc-4e5e-ad02-5384eb03122d",
   "metadata": {},
   "outputs": [
    {
     "data": {
      "text/plain": [
       "veh_class\n",
       "large car          26.500000\n",
       "midsize car        30.543103\n",
       "minivan            32.333333\n",
       "pickup             18.758621\n",
       "small SUV          28.886719\n",
       "small car          24.022472\n",
       "special purpose    19.875000\n",
       "standard SUV       22.229167\n",
       "station wagon      27.043478\n",
       "Name: cmb_mpg, dtype: float64"
      ]
     },
     "execution_count": 409,
     "metadata": {},
     "output_type": "execute_result"
    }
   ],
   "source": [
    "veh_class_24=df_24.groupby('veh_class')['cmb_mpg'].mean()\n",
    "veh_class_24"
   ]
  },
  {
   "cell_type": "code",
   "execution_count": 410,
   "id": "725f4d63-bfe8-47ca-aecf-c724a55e9f11",
   "metadata": {},
   "outputs": [
    {
     "data": {
      "text/plain": [
       "veh_class\n",
       "large car           5.488506\n",
       "midsize car         3.659265\n",
       "minivan            10.761905\n",
       "pickup              1.027851\n",
       "small SUV           6.233941\n",
       "small car          -0.634602\n",
       "special purpose    -2.553571\n",
       "standard SUV        4.340278\n",
       "station wagon       2.071256\n",
       "van                      NaN\n",
       "Name: cmb_mpg, dtype: float64"
      ]
     },
     "execution_count": 410,
     "metadata": {},
     "output_type": "execute_result"
    }
   ],
   "source": [
    "variance=veh_class_24-veh_class_14\n",
    "variance"
   ]
  },
  {
   "cell_type": "code",
   "execution_count": 411,
   "id": "ebfb3011-5365-4f26-a5f8-6bec9a979471",
   "metadata": {},
   "outputs": [],
   "source": [
    "variance.dropna(inplace=True)"
   ]
  },
  {
   "cell_type": "code",
   "execution_count": 476,
   "id": "b1066f41-6bee-454c-9da9-d34e543a3f63",
   "metadata": {},
   "outputs": [
    {
     "data": {
      "text/plain": [
       "Text(0, 0.5, 'Improvement in Fuel Economy')"
      ]
     },
     "execution_count": 476,
     "metadata": {},
     "output_type": "execute_result"
    },
    {
     "data": {
      "image/png": "[encoded data removed]",
      "text/plain": [
       "<Figure size 700x400 with 1 Axes>"
      ]
     },
     "metadata": {},
     "output_type": "display_data"
    }
   ],
   "source": [
    "# plotting graph\n",
    "plt.subplots(figsize=(7,4))\n",
    "plt.bar(variance.index, variance)\n",
    "plt.title(\"Barchart of Improvement in Fuel Economy from 2014 to 2024 by Vehicle Class\")\n",
    "plt.xlabel(\"vehicle Class\")\n",
    "plt.xticks(rotation=90)\n",
    "plt.ylabel(\"Improvement in Fuel Economy\")"
   ]
  },
  {
   "cell_type": "markdown",
   "id": "6c16a2e0-28e6-4864-aff9-d28acf6577ec",
   "metadata": {},
   "source": [
    "<h3>Answer:</h3>"
   ]
  },
  {
   "cell_type": "markdown",
   "id": "c4c85294-b82d-4a57-87e9-704bfab5872b",
   "metadata": {},
   "source": [
    "<font size='3'> Minivan has the highest improvements in fuel economy followed by small SUV and large car. While there also a decrement in fuel ecnomy for vehicle class such as small car and special purpose.<br>(A Special Purpose vehicle (SPV) refers to a type of vehicle that is designed and built for a specific, specialized function, rather than for general transportation. These vehicles are typically customized to serve particular industry or operational needs and are not designed for regular passenger or cargo transport.)\n"
   ]
  },
  {
   "cell_type": "markdown",
   "id": "c53d2a1e-db43-4140-bd3a-5415a19cfa51",
   "metadata": {},
   "source": [
    "<font size='4'>Q3: For all of the models that were produced in 2014 that are still being produced now in 2024, how much has the combined mpg improved and which vehicle improved the most?"
   ]
  },
  {
   "cell_type": "markdown",
   "id": "c47f1d71-82a1-4855-b46a-fd860b12d1f2",
   "metadata": {},
   "source": [
    "<font size='3'>To find the answer for above question we need to merge two datasets!\n"
   ]
  },
  {
   "cell_type": "code",
   "execution_count": 477,
   "id": "a58230ed-0682-4647-af14-7e0de1e5e358",
   "metadata": {},
   "outputs": [],
   "source": [
    "# rename 2014 columns to distinguish between two dataset\n",
    "df_14=df_14.rename(columns = (lambda x: x[:10] + '_2014'))"
   ]
  },
  {
   "cell_type": "code",
   "execution_count": 478,
   "id": "fc1677b0-dd95-4389-95fb-905c635b6f3a",
   "metadata": {},
   "outputs": [
    {
     "data": {
      "text/html": [
       "<div>\n",
       "<style scoped>\n",
       "    .dataframe tbody tr th:only-of-type {\n",
       "        vertical-align: middle;\n",
       "    }\n",
       "\n",
       "    .dataframe tbody tr th {\n",
       "        vertical-align: top;\n",
       "    }\n",
       "\n",
       "    .dataframe thead th {\n",
       "        text-align: right;\n",
       "    }\n",
       "</style>\n",
       "<table border=\"1\" class=\"dataframe\">\n",
       "  <thead>\n",
       "    <tr style=\"text-align: right;\">\n",
       "      <th></th>\n",
       "      <th>model_2014_2014</th>\n",
       "      <th>displ_2014_2014</th>\n",
       "      <th>cyl_2014_2014</th>\n",
       "      <th>trans_2014_2014</th>\n",
       "      <th>drive_2014_2014</th>\n",
       "      <th>fuel_2014_2014</th>\n",
       "      <th>veh_class__2014</th>\n",
       "      <th>air_pollut_2014</th>\n",
       "      <th>city_mpg_2_2014</th>\n",
       "      <th>hwy_mpg_20_2014</th>\n",
       "      <th>cmb_mpg_20_2014</th>\n",
       "      <th>greenhouse_2014</th>\n",
       "      <th>smartway_2_2014</th>\n",
       "    </tr>\n",
       "  </thead>\n",
       "  <tbody>\n",
       "    <tr>\n",
       "      <th>0</th>\n",
       "      <td>ACURA ILX</td>\n",
       "      <td>1.5</td>\n",
       "      <td>4</td>\n",
       "      <td>SCV-7</td>\n",
       "      <td>2WD</td>\n",
       "      <td>Gasoline</td>\n",
       "      <td>small car</td>\n",
       "      <td>9.0</td>\n",
       "      <td>39.0</td>\n",
       "      <td>38.0</td>\n",
       "      <td>38.0</td>\n",
       "      <td>9</td>\n",
       "      <td>Yes</td>\n",
       "    </tr>\n",
       "    <tr>\n",
       "      <th>1</th>\n",
       "      <td>ACURA ILX</td>\n",
       "      <td>2.0</td>\n",
       "      <td>4</td>\n",
       "      <td>SemiAuto-5</td>\n",
       "      <td>2WD</td>\n",
       "      <td>Gasoline</td>\n",
       "      <td>small car</td>\n",
       "      <td>6.0</td>\n",
       "      <td>24.0</td>\n",
       "      <td>35.0</td>\n",
       "      <td>28.0</td>\n",
       "      <td>7</td>\n",
       "      <td>Yes</td>\n",
       "    </tr>\n",
       "    <tr>\n",
       "      <th>2</th>\n",
       "      <td>ACURA ILX</td>\n",
       "      <td>2.4</td>\n",
       "      <td>4</td>\n",
       "      <td>Man-6</td>\n",
       "      <td>2WD</td>\n",
       "      <td>Gasoline</td>\n",
       "      <td>small car</td>\n",
       "      <td>6.0</td>\n",
       "      <td>22.0</td>\n",
       "      <td>31.0</td>\n",
       "      <td>25.0</td>\n",
       "      <td>6</td>\n",
       "      <td>No</td>\n",
       "    </tr>\n",
       "    <tr>\n",
       "      <th>3</th>\n",
       "      <td>ACURA MDX</td>\n",
       "      <td>3.5</td>\n",
       "      <td>6</td>\n",
       "      <td>SemiAuto-6</td>\n",
       "      <td>4WD</td>\n",
       "      <td>Gasoline</td>\n",
       "      <td>small SUV</td>\n",
       "      <td>6.0</td>\n",
       "      <td>18.0</td>\n",
       "      <td>27.0</td>\n",
       "      <td>21.0</td>\n",
       "      <td>5</td>\n",
       "      <td>No</td>\n",
       "    </tr>\n",
       "    <tr>\n",
       "      <th>4</th>\n",
       "      <td>ACURA MDX</td>\n",
       "      <td>3.5</td>\n",
       "      <td>6</td>\n",
       "      <td>SemiAuto-6</td>\n",
       "      <td>2WD</td>\n",
       "      <td>Gasoline</td>\n",
       "      <td>small SUV</td>\n",
       "      <td>6.0</td>\n",
       "      <td>20.0</td>\n",
       "      <td>28.0</td>\n",
       "      <td>23.0</td>\n",
       "      <td>6</td>\n",
       "      <td>No</td>\n",
       "    </tr>\n",
       "  </tbody>\n",
       "</table>\n",
       "</div>"
      ],
      "text/plain": [
       "  model_2014_2014  displ_2014_2014  cyl_2014_2014 trans_2014_2014  \\\n",
       "0       ACURA ILX              1.5              4           SCV-7   \n",
       "1       ACURA ILX              2.0              4      SemiAuto-5   \n",
       "2       ACURA ILX              2.4              4           Man-6   \n",
       "3       ACURA MDX              3.5              6      SemiAuto-6   \n",
       "4       ACURA MDX              3.5              6      SemiAuto-6   \n",
       "\n",
       "  drive_2014_2014 fuel_2014_2014 veh_class__2014  air_pollut_2014  \\\n",
       "0             2WD       Gasoline       small car              9.0   \n",
       "1             2WD       Gasoline       small car              6.0   \n",
       "2             2WD       Gasoline       small car              6.0   \n",
       "3             4WD       Gasoline       small SUV              6.0   \n",
       "4             2WD       Gasoline       small SUV              6.0   \n",
       "\n",
       "   city_mpg_2_2014  hwy_mpg_20_2014  cmb_mpg_20_2014  greenhouse_2014  \\\n",
       "0             39.0             38.0             38.0                9   \n",
       "1             24.0             35.0             28.0                7   \n",
       "2             22.0             31.0             25.0                6   \n",
       "3             18.0             27.0             21.0                5   \n",
       "4             20.0             28.0             23.0                6   \n",
       "\n",
       "  smartway_2_2014  \n",
       "0             Yes  \n",
       "1             Yes  \n",
       "2              No  \n",
       "3              No  \n",
       "4              No  "
      ]
     },
     "execution_count": 478,
     "metadata": {},
     "output_type": "execute_result"
    }
   ],
   "source": [
    "df_14.head()"
   ]
  },
  {
   "cell_type": "code",
   "execution_count": 479,
   "id": "953912a0-1b6b-4e87-be88-0174dc13aadc",
   "metadata": {},
   "outputs": [],
   "source": [
    "df_merge=pd.concat([df_14,df_24],axis=1,join='inner') #This would join both Dataset on rows"
   ]
  },
  {
   "cell_type": "code",
   "execution_count": null,
   "id": "0a70cb28-01f4-49ff-89ef-6579ae4433a4",
   "metadata": {},
   "outputs": [],
   "source": [
    "#creating a new dataframe model_mpg that give mean() of 2014 and 2024 cmb_mpg for each "
   ]
  },
  {
   "cell_type": "code",
   "execution_count": null,
   "id": "8809b42b-3641-4b6c-abdf-af9e9973c7ba",
   "metadata": {},
   "outputs": [],
   "source": [
    "model_mpg=df_merge.groupby('model')[['cmb_mpg_2014','cmb_mpg']].mean()"
   ]
  },
  {
   "cell_type": "code",
   "execution_count": 481,
   "id": "9c7fd181-7f6d-4638-9056-0c508befff8c",
   "metadata": {},
   "outputs": [
    {
     "data": {
      "text/html": [
       "<div>\n",
       "<style scoped>\n",
       "    .dataframe tbody tr th:only-of-type {\n",
       "        vertical-align: middle;\n",
       "    }\n",
       "\n",
       "    .dataframe tbody tr th {\n",
       "        vertical-align: top;\n",
       "    }\n",
       "\n",
       "    .dataframe thead th {\n",
       "        text-align: right;\n",
       "    }\n",
       "</style>\n",
       "<table border=\"1\" class=\"dataframe\">\n",
       "  <thead>\n",
       "    <tr style=\"text-align: right;\">\n",
       "      <th></th>\n",
       "      <th>cmb_mpg_2014</th>\n",
       "      <th>cmb_mpg</th>\n",
       "      <th>change_mpg</th>\n",
       "    </tr>\n",
       "    <tr>\n",
       "      <th>model</th>\n",
       "      <th></th>\n",
       "      <th></th>\n",
       "      <th></th>\n",
       "    </tr>\n",
       "  </thead>\n",
       "  <tbody>\n",
       "    <tr>\n",
       "      <th>ACURA Integra</th>\n",
       "      <td>33.0</td>\n",
       "      <td>28.5</td>\n",
       "      <td>-4.5</td>\n",
       "    </tr>\n",
       "    <tr>\n",
       "      <th>ACURA Integra A-Spec</th>\n",
       "      <td>23.0</td>\n",
       "      <td>31.0</td>\n",
       "      <td>8.0</td>\n",
       "    </tr>\n",
       "    <tr>\n",
       "      <th>ACURA MDX</th>\n",
       "      <td>22.5</td>\n",
       "      <td>21.5</td>\n",
       "      <td>-1.0</td>\n",
       "    </tr>\n",
       "    <tr>\n",
       "      <th>ACURA MDX Type-S</th>\n",
       "      <td>23.0</td>\n",
       "      <td>19.0</td>\n",
       "      <td>-4.0</td>\n",
       "    </tr>\n",
       "    <tr>\n",
       "      <th>ACURA RDX</th>\n",
       "      <td>30.0</td>\n",
       "      <td>23.0</td>\n",
       "      <td>-7.0</td>\n",
       "    </tr>\n",
       "  </tbody>\n",
       "</table>\n",
       "</div>"
      ],
      "text/plain": [
       "                      cmb_mpg_2014  cmb_mpg  change_mpg\n",
       "model                                                  \n",
       "ACURA Integra                 33.0     28.5        -4.5\n",
       "ACURA Integra A-Spec          23.0     31.0         8.0\n",
       "ACURA MDX                     22.5     21.5        -1.0\n",
       "ACURA MDX Type-S              23.0     19.0        -4.0\n",
       "ACURA RDX                     30.0     23.0        -7.0"
      ]
     },
     "execution_count": 481,
     "metadata": {},
     "output_type": "execute_result"
    }
   ],
   "source": [
    "model_mpg.head()"
   ]
  },
  {
   "cell_type": "code",
   "execution_count": 482,
   "id": "9533ff2a-7cdf-4097-ac7f-8d38fa9d8762",
   "metadata": {},
   "outputs": [
    {
     "data": {
      "text/plain": [
       "(622, 3)"
      ]
     },
     "execution_count": 482,
     "metadata": {},
     "output_type": "execute_result"
    }
   ],
   "source": [
    "model_mpg.shape"
   ]
  },
  {
   "cell_type": "code",
   "execution_count": 483,
   "id": "77c522d7-3449-4423-94e8-da460158227a",
   "metadata": {},
   "outputs": [],
   "source": [
    "# creating new column with represents the change in cmb_mpg"
   ]
  },
  {
   "cell_type": "code",
   "execution_count": 446,
   "id": "523e2fbc-c53d-4e2b-8a2a-d99e0f6f2592",
   "metadata": {},
   "outputs": [],
   "source": [
    "model_mpg['change_mpg']=model_mpg['cmb_mpg']-model_mpg['cmb_mpg_2014']"
   ]
  },
  {
   "cell_type": "code",
   "execution_count": 447,
   "id": "36195481-4506-44dc-b81a-7c8cfb4cf5f1",
   "metadata": {},
   "outputs": [
    {
     "data": {
      "text/html": [
       "<div>\n",
       "<style scoped>\n",
       "    .dataframe tbody tr th:only-of-type {\n",
       "        vertical-align: middle;\n",
       "    }\n",
       "\n",
       "    .dataframe tbody tr th {\n",
       "        vertical-align: top;\n",
       "    }\n",
       "\n",
       "    .dataframe thead th {\n",
       "        text-align: right;\n",
       "    }\n",
       "</style>\n",
       "<table border=\"1\" class=\"dataframe\">\n",
       "  <thead>\n",
       "    <tr style=\"text-align: right;\">\n",
       "      <th></th>\n",
       "      <th>cmb_mpg_2014</th>\n",
       "      <th>cmb_mpg</th>\n",
       "      <th>change_mpg</th>\n",
       "    </tr>\n",
       "    <tr>\n",
       "      <th>model</th>\n",
       "      <th></th>\n",
       "      <th></th>\n",
       "      <th></th>\n",
       "    </tr>\n",
       "  </thead>\n",
       "  <tbody>\n",
       "    <tr>\n",
       "      <th>ACURA Integra</th>\n",
       "      <td>33.0</td>\n",
       "      <td>28.5</td>\n",
       "      <td>-4.5</td>\n",
       "    </tr>\n",
       "    <tr>\n",
       "      <th>ACURA Integra A-Spec</th>\n",
       "      <td>23.0</td>\n",
       "      <td>31.0</td>\n",
       "      <td>8.0</td>\n",
       "    </tr>\n",
       "    <tr>\n",
       "      <th>ACURA MDX</th>\n",
       "      <td>22.5</td>\n",
       "      <td>21.5</td>\n",
       "      <td>-1.0</td>\n",
       "    </tr>\n",
       "    <tr>\n",
       "      <th>ACURA MDX Type-S</th>\n",
       "      <td>23.0</td>\n",
       "      <td>19.0</td>\n",
       "      <td>-4.0</td>\n",
       "    </tr>\n",
       "    <tr>\n",
       "      <th>ACURA RDX</th>\n",
       "      <td>30.0</td>\n",
       "      <td>23.0</td>\n",
       "      <td>-7.0</td>\n",
       "    </tr>\n",
       "  </tbody>\n",
       "</table>\n",
       "</div>"
      ],
      "text/plain": [
       "                      cmb_mpg_2014  cmb_mpg  change_mpg\n",
       "model                                                  \n",
       "ACURA Integra                 33.0     28.5        -4.5\n",
       "ACURA Integra A-Spec          23.0     31.0         8.0\n",
       "ACURA MDX                     22.5     21.5        -1.0\n",
       "ACURA MDX Type-S              23.0     19.0        -4.0\n",
       "ACURA RDX                     30.0     23.0        -7.0"
      ]
     },
     "execution_count": 447,
     "metadata": {},
     "output_type": "execute_result"
    }
   ],
   "source": [
    "model_mpg.head()"
   ]
  },
  {
   "cell_type": "code",
   "execution_count": 448,
   "id": "f0a69ad6-ef2c-4a3c-8ab4-12e45214fd51",
   "metadata": {},
   "outputs": [
    {
     "data": {
      "text/plain": [
       "<Axes: >"
      ]
     },
     "execution_count": 448,
     "metadata": {},
     "output_type": "execute_result"
    },
    {
     "data": {
      "image/png": "[encoded data removed]",
      "text/plain": [
       "<Figure size 640x480 with 1 Axes>"
      ]
     },
     "metadata": {},
     "output_type": "display_data"
    }
   ],
   "source": [
    "model_mpg['change_mpg'].hist()"
   ]
  },
  {
   "cell_type": "code",
   "execution_count": 469,
   "id": "0c4c89c0-37aa-462b-8828-cd00b5a1af49",
   "metadata": {},
   "outputs": [
    {
     "data": {
      "image/png": "[encoded data removed]",
      "text/plain": [
       "<Figure size 1000x600 with 1 Axes>"
      ]
     },
     "metadata": {},
     "output_type": "display_data"
    }
   ],
   "source": [
    "plt.figure(figsize=(10, 6))\n",
    "plt.scatter(model_mpg.index, model_mpg['change_mpg'], color='blue')  # Scatter plot\n",
    "plt.title(\"Change in MPG\", fontsize=16)\n",
    "plt.xticks(rotation=90, fontsize=1)\n",
    "plt.ylabel(\"Change in MPG\", fontsize=14)\n",
    "plt.tight_layout()  # Automatically adjust layout\n",
    "plt.show()"
   ]
  },
  {
   "cell_type": "code",
   "execution_count": 453,
   "id": "4b79837d-0bcf-449e-a342-a03159846e81",
   "metadata": {},
   "outputs": [
    {
     "data": {
      "text/plain": [
       "34.0"
      ]
     },
     "execution_count": 453,
     "metadata": {},
     "output_type": "execute_result"
    }
   ],
   "source": [
    "#finding the vehicle that improved the most\n",
    "max_model_mpg_change=model_mpg['change_mpg'].max()\n",
    "max_model_mpg_change"
   ]
  },
  {
   "cell_type": "code",
   "execution_count": 454,
   "id": "2bd3b45d-37d2-46a3-b337-dd84f2c59914",
   "metadata": {},
   "outputs": [
    {
     "data": {
      "text/html": [
       "<div>\n",
       "<style scoped>\n",
       "    .dataframe tbody tr th:only-of-type {\n",
       "        vertical-align: middle;\n",
       "    }\n",
       "\n",
       "    .dataframe tbody tr th {\n",
       "        vertical-align: top;\n",
       "    }\n",
       "\n",
       "    .dataframe thead th {\n",
       "        text-align: right;\n",
       "    }\n",
       "</style>\n",
       "<table border=\"1\" class=\"dataframe\">\n",
       "  <thead>\n",
       "    <tr style=\"text-align: right;\">\n",
       "      <th></th>\n",
       "      <th>cmb_mpg_2014</th>\n",
       "      <th>cmb_mpg</th>\n",
       "      <th>change_mpg</th>\n",
       "    </tr>\n",
       "    <tr>\n",
       "      <th>model</th>\n",
       "      <th></th>\n",
       "      <th></th>\n",
       "      <th></th>\n",
       "    </tr>\n",
       "  </thead>\n",
       "  <tbody>\n",
       "    <tr>\n",
       "      <th>TOYOTA Camry Hybrid LE</th>\n",
       "      <td>18.0</td>\n",
       "      <td>52.0</td>\n",
       "      <td>34.0</td>\n",
       "    </tr>\n",
       "  </tbody>\n",
       "</table>\n",
       "</div>"
      ],
      "text/plain": [
       "                        cmb_mpg_2014  cmb_mpg  change_mpg\n",
       "model                                                    \n",
       "TOYOTA Camry Hybrid LE          18.0     52.0        34.0"
      ]
     },
     "execution_count": 454,
     "metadata": {},
     "output_type": "execute_result"
    }
   ],
   "source": [
    "# Name of vehicle\n",
    "model_mpg[model_mpg['change_mpg']==max_model_mpg_change]"
   ]
  },
  {
   "cell_type": "markdown",
   "id": "b9cfd4b6-2d39-4cdd-bcde-9efe63a2ccde",
   "metadata": {},
   "source": [
    "<font size='3'> So TOYOTA Camry Hybrid LE is the vehicle with most improvment in fuel economy with 188.8 % increase from 2014 to 2024."
   ]
  },
  {
   "cell_type": "markdown",
   "id": "0b29d372-28d1-4f38-9df9-bc2382a0fd05",
   "metadata": {},
   "source": [
    "<font size='3'> From the above scatter plot we can see there is single vehicle that has highest decrement in fuel economy lets find that vehical."
   ]
  },
  {
   "cell_type": "code",
   "execution_count": 486,
   "id": "2efbc1f1-804d-485c-ae83-3c63853f0adc",
   "metadata": {},
   "outputs": [],
   "source": [
    "min_model_mpg_change=model_mpg['change_mpg'].min()"
   ]
  },
  {
   "cell_type": "code",
   "execution_count": 487,
   "id": "05abfe0d-d3bb-4196-94e3-d9dd76eb4cdd",
   "metadata": {},
   "outputs": [
    {
     "data": {
      "text/html": [
       "<div>\n",
       "<style scoped>\n",
       "    .dataframe tbody tr th:only-of-type {\n",
       "        vertical-align: middle;\n",
       "    }\n",
       "\n",
       "    .dataframe tbody tr th {\n",
       "        vertical-align: top;\n",
       "    }\n",
       "\n",
       "    .dataframe thead th {\n",
       "        text-align: right;\n",
       "    }\n",
       "</style>\n",
       "<table border=\"1\" class=\"dataframe\">\n",
       "  <thead>\n",
       "    <tr style=\"text-align: right;\">\n",
       "      <th></th>\n",
       "      <th>cmb_mpg_2014</th>\n",
       "      <th>cmb_mpg</th>\n",
       "      <th>change_mpg</th>\n",
       "    </tr>\n",
       "    <tr>\n",
       "      <th>model</th>\n",
       "      <th></th>\n",
       "      <th></th>\n",
       "      <th></th>\n",
       "    </tr>\n",
       "  </thead>\n",
       "  <tbody>\n",
       "    <tr>\n",
       "      <th>LEXUS RX 450h+</th>\n",
       "      <td>117.0</td>\n",
       "      <td>35.0</td>\n",
       "      <td>-82.0</td>\n",
       "    </tr>\n",
       "  </tbody>\n",
       "</table>\n",
       "</div>"
      ],
      "text/plain": [
       "                cmb_mpg_2014  cmb_mpg  change_mpg\n",
       "model                                            \n",
       "LEXUS RX 450h+         117.0     35.0       -82.0"
      ]
     },
     "execution_count": 487,
     "metadata": {},
     "output_type": "execute_result"
    }
   ],
   "source": [
    "model_mpg[model_mpg['change_mpg']==min_model_mpg_change]"
   ]
  },
  {
   "cell_type": "markdown",
   "id": "f7a51b01-29f8-46de-bf23-b2d39ee58a86",
   "metadata": {},
   "source": [
    "<font size='3'> So LEXUS RX 450h+ is the vehicle model with most decrement in fuel economy from 2014 to 2024 with 70.08% decrease."
   ]
  },
  {
   "cell_type": "code",
   "execution_count": null,
   "id": "02aeaea6-109a-49bc-ab15-902b72f8d2a5",
   "metadata": {},
   "outputs": [],
   "source": []
  }
 ],
 "metadata": {
  "kernelspec": {
   "display_name": "Python 3 (ipykernel)",
   "language": "python",
   "name": "python3"
  },
  "language_info": {
   "codemirror_mode": {
    "name": "ipython",
    "version": 3
   },
   "file_extension": ".py",
   "mimetype": "text/x-python",
   "name": "python",
   "nbconvert_exporter": "python",
   "pygments_lexer": "ipython3",
   "version": "3.8.2"
  }
 },
 "nbformat": 4,
 "nbformat_minor": 5
}
